{
 "cells": [
  {
   "cell_type": "markdown",
   "metadata": {},
   "source": [
    "## Sumário\n",
    "\n",
    "[Implementação](#)\n",
    "\n",
    "* [Leitura, visualização e pré-processamento do dataset](#)\n",
    "\n",
    "* [Conversão do array de predições Y](#)\n",
    "\n",
    "* [Definição de Topologia da Rede](#)\n",
    "    \n",
    "    * [Arquitetura 1](#)\n",
    "    * [Arquitetura 2](#)\n",
    "    * [Arquitetura 3](#)\n",
    "    * [Arquitetura 4](#)\n",
    "    * [Arquitetura 5](#)\n",
    "    \n",
    "* [Comparações](#)\n",
    "\n",
    "[Referências](#)"
   ]
  },
  {
   "cell_type": "markdown",
   "metadata": {},
   "source": [
    "## Imports"
   ]
  },
  {
   "cell_type": "code",
   "execution_count": 1,
   "metadata": {},
   "outputs": [
    {
     "name": "stderr",
     "output_type": "stream",
     "text": [
      "Using TensorFlow backend.\n"
     ]
    }
   ],
   "source": [
    "import numpy as np\n",
    "import tensorflow as tf\n",
    "from keras.datasets import mnist\n",
    "from keras.models import Sequential\n",
    "from keras.layers import Dense, Dropout\n",
    "from keras.utils import to_categorical\n",
    "import matplotlib.pyplot as plt\n",
    "\n",
    "%matplotlib inline"
   ]
  },
  {
   "cell_type": "markdown",
   "metadata": {},
   "source": [
    "## Implementação"
   ]
  },
  {
   "cell_type": "markdown",
   "metadata": {},
   "source": [
    "### Leitura, visualização e pré-processamento do dataset\n",
    "Ao utilizar Redes Neurais para imagens, cada entrada é um pixel. Dessa forma, após a leitura do dataset, precisa-se descobrir as dimensões da imagem, a quantidade de instâncias, quantas classes e entradas são necessárias para o problema.\n",
    "\n",
    "Feito isso, algumas técnicas de pré-processamento devem ser utilizadas para melhores resultados, dentre eles converter a imagem para tons de cinza e normalizar."
   ]
  },
  {
   "cell_type": "code",
   "execution_count": 2,
   "metadata": {},
   "outputs": [
    {
     "data": {
      "text/plain": [
       "((60000, 784), (60000,), (10000, 784), (10000,))"
      ]
     },
     "execution_count": 2,
     "metadata": {},
     "output_type": "execute_result"
    },
    {
     "data": {
      "image/png": "[encoded data removed]",
      "text/plain": [
       "<matplotlib.figure.Figure at 0x7fd08221cb00>"
      ]
     },
     "metadata": {},
     "output_type": "display_data"
    }
   ],
   "source": [
    "# carrega dataset\n",
    "(x_train, y_train), (x_test, y_test) = mnist.load_data()\n",
    "\n",
    "plt.imshow(x_train[9000], cmap=plt.get_cmap('gray'))\n",
    "plt.title(y_train[5])\n",
    "\n",
    "# normalizando entrada\n",
    "x_train, x_test = x_train.reshape(-1,784)/255.0, x_test.reshape(-1,784)/255.0\n",
    "\n",
    "x_train.shape, y_train.shape, x_test.shape, y_test.shape"
   ]
  },
  {
   "cell_type": "markdown",
   "metadata": {},
   "source": [
    "### Conversão do array de predições Y\n",
    "\n",
    "Baseado no número de classes do problema, represente a saída como one-hot encoding."
   ]
  },
  {
   "cell_type": "code",
   "execution_count": 3,
   "metadata": {},
   "outputs": [
    {
     "data": {
      "text/plain": [
       "((60000, 10), (10000, 10))"
      ]
     },
     "execution_count": 3,
     "metadata": {},
     "output_type": "execute_result"
    }
   ],
   "source": [
    "# numero de classes\n",
    "D_out = 10\n",
    "# one hot encoding\n",
    "y_train_oh, y_test_oh = to_categorical(y_train, D_out), to_categorical(y_test, D_out)\n",
    "\n",
    "y_train_oh.shape, y_test_oh.shape"
   ]
  },
  {
   "cell_type": "markdown",
   "metadata": {},
   "source": [
    "### Definição de Topologia da Rede\n",
    "Mostre as três arquiteturas que serão utilizadas para resolver o problema. As arquiteturas devem ser simples de forma a retornar bons resultados com a menor quantidade necessária de neurônios e camadas. As três arquiteturas devem variar apenas quanto ao número de neurônios e camadas (incluindo regularização). Baseado nisso, explique:\n",
    "\n",
    "* Quantos neurônios serão utilizados em cada camada?\n",
    "* Quantas camadas serão utilizadas?\n",
    "* É necessário utilizar regularização? Se sim explique a técnica que foi utilizada e o impacto nos resultados\n",
    "* Qual função de ativação será utilizada? Escolha duas funções de ativação e explique os resultados obtidos"
   ]
  },
  {
   "cell_type": "markdown",
   "metadata": {},
   "source": [
    "#### 1. Arquitetura"
   ]
  },
  {
   "cell_type": "code",
   "execution_count": 4,
   "metadata": {},
   "outputs": [
    {
     "name": "stdout",
     "output_type": "stream",
     "text": [
      "_________________________________________________________________\n",
      "Layer (type)                 Output Shape              Param #   \n",
      "=================================================================\n",
      "dense_1 (Dense)              (None, 20)                15700     \n",
      "_________________________________________________________________\n",
      "dense_2 (Dense)              (None, 20)                420       \n",
      "_________________________________________________________________\n",
      "dense_3 (Dense)              (None, 10)                210       \n",
      "=================================================================\n",
      "Total params: 16,330\n",
      "Trainable params: 16,330\n",
      "Non-trainable params: 0\n",
      "_________________________________________________________________\n"
     ]
    }
   ],
   "source": [
    "classifier = Sequential()\n",
    "classifier.add(Dense(units=20, activation='relu', input_shape=(x_train.shape[1],)))\n",
    "classifier.add(Dense(units=20, activation='relu'))\n",
    "classifier.add(Dense(D_out, activation='sigmoid'))\n",
    "\n",
    "classifier.summary()"
   ]
  },
  {
   "cell_type": "code",
   "execution_count": 5,
   "metadata": {},
   "outputs": [
    {
     "name": "stdout",
     "output_type": "stream",
     "text": [
      "Train on 60000 samples, validate on 10000 samples\n",
      "Epoch 1/30\n",
      "60000/60000 [==============================] - 11s 179us/step - loss: 0.4421 - acc: 0.8688 - val_loss: 0.2377 - val_acc: 0.9322\n",
      "Epoch 2/30\n",
      "60000/60000 [==============================] - 9s 146us/step - loss: 0.2351 - acc: 0.9327 - val_loss: 0.2003 - val_acc: 0.9391\n",
      "Epoch 3/30\n",
      "60000/60000 [==============================] - 8s 127us/step - loss: 0.1955 - acc: 0.9436 - val_loss: 0.1746 - val_acc: 0.9483\n",
      "Epoch 4/30\n",
      "60000/60000 [==============================] - 8s 125us/step - loss: 0.1706 - acc: 0.9508 - val_loss: 0.1688 - val_acc: 0.9500\n",
      "Epoch 5/30\n",
      "60000/60000 [==============================] - 8s 138us/step - loss: 0.1556 - acc: 0.9552 - val_loss: 0.1551 - val_acc: 0.9538\n",
      "Epoch 6/30\n",
      "60000/60000 [==============================] - 8s 128us/step - loss: 0.1429 - acc: 0.9583 - val_loss: 0.1481 - val_acc: 0.9563\n",
      "Epoch 7/30\n",
      "60000/60000 [==============================] - 7s 124us/step - loss: 0.1337 - acc: 0.9609 - val_loss: 0.1467 - val_acc: 0.9568\n",
      "Epoch 8/30\n",
      "60000/60000 [==============================] - 8s 142us/step - loss: 0.1250 - acc: 0.9630 - val_loss: 0.1639 - val_acc: 0.9512\n",
      "Epoch 9/30\n",
      "60000/60000 [==============================] - 8s 127us/step - loss: 0.1202 - acc: 0.9639 - val_loss: 0.1416 - val_acc: 0.9591\n",
      "Epoch 10/30\n",
      "60000/60000 [==============================] - 8s 126us/step - loss: 0.1150 - acc: 0.9657 - val_loss: 0.1326 - val_acc: 0.9612\n",
      "Epoch 11/30\n",
      "60000/60000 [==============================] - 7s 125us/step - loss: 0.1101 - acc: 0.9676 - val_loss: 0.1484 - val_acc: 0.9553\n",
      "Epoch 12/30\n",
      "60000/60000 [==============================] - 7s 122us/step - loss: 0.1068 - acc: 0.9678 - val_loss: 0.1484 - val_acc: 0.9563\n",
      "Epoch 13/30\n",
      "60000/60000 [==============================] - 8s 127us/step - loss: 0.1035 - acc: 0.9687 - val_loss: 0.1425 - val_acc: 0.9582\n",
      "Epoch 14/30\n",
      "60000/60000 [==============================] - 8s 125us/step - loss: 0.0998 - acc: 0.9695 - val_loss: 0.1395 - val_acc: 0.9608\n",
      "Epoch 15/30\n",
      "60000/60000 [==============================] - 7s 124us/step - loss: 0.0981 - acc: 0.9704 - val_loss: 0.1434 - val_acc: 0.9601\n",
      "Epoch 16/30\n",
      "60000/60000 [==============================] - 8s 126us/step - loss: 0.0956 - acc: 0.9703 - val_loss: 0.1355 - val_acc: 0.9611\n",
      "Epoch 17/30\n",
      "60000/60000 [==============================] - 7s 121us/step - loss: 0.0914 - acc: 0.9729 - val_loss: 0.1498 - val_acc: 0.9597\n",
      "Epoch 18/30\n",
      "60000/60000 [==============================] - 7s 124us/step - loss: 0.0901 - acc: 0.9724 - val_loss: 0.1488 - val_acc: 0.9590\n",
      "Epoch 19/30\n",
      "60000/60000 [==============================] - 7s 122us/step - loss: 0.0889 - acc: 0.9719 - val_loss: 0.1406 - val_acc: 0.9626\n",
      "Epoch 20/30\n",
      "60000/60000 [==============================] - 8s 125us/step - loss: 0.0864 - acc: 0.9739 - val_loss: 0.1445 - val_acc: 0.9588\n",
      "Epoch 21/30\n",
      "60000/60000 [==============================] - 7s 122us/step - loss: 0.0849 - acc: 0.9741 - val_loss: 0.1439 - val_acc: 0.9606\n",
      "Epoch 22/30\n",
      "60000/60000 [==============================] - 8s 128us/step - loss: 0.0835 - acc: 0.9743 - val_loss: 0.1511 - val_acc: 0.9576\n",
      "Epoch 23/30\n",
      "60000/60000 [==============================] - 8s 141us/step - loss: 0.0815 - acc: 0.9742 - val_loss: 0.1433 - val_acc: 0.9594\n",
      "Epoch 24/30\n",
      "60000/60000 [==============================] - 7s 123us/step - loss: 0.0789 - acc: 0.9756 - val_loss: 0.1562 - val_acc: 0.9581\n",
      "Epoch 25/30\n",
      "60000/60000 [==============================] - 10s 166us/step - loss: 0.0789 - acc: 0.9753 - val_loss: 0.1499 - val_acc: 0.9604\n",
      "Epoch 26/30\n",
      "60000/60000 [==============================] - 7s 114us/step - loss: 0.0769 - acc: 0.9763 - val_loss: 0.1509 - val_acc: 0.9598\n",
      "Epoch 27/30\n",
      "60000/60000 [==============================] - 7s 109us/step - loss: 0.0739 - acc: 0.9772 - val_loss: 0.1515 - val_acc: 0.9610\n",
      "Epoch 28/30\n",
      "60000/60000 [==============================] - 5s 82us/step - loss: 0.0742 - acc: 0.9767 - val_loss: 0.1499 - val_acc: 0.9611\n",
      "Epoch 29/30\n",
      "60000/60000 [==============================] - 5s 90us/step - loss: 0.0717 - acc: 0.9774 - val_loss: 0.1473 - val_acc: 0.9606\n",
      "Epoch 30/30\n",
      "60000/60000 [==============================] - 5s 88us/step - loss: 0.0707 - acc: 0.9771 - val_loss: 0.1629 - val_acc: 0.9579\n"
     ]
    }
   ],
   "source": [
    "classifier.compile(optimizer='adam', loss='categorical_crossentropy',  metrics=['accuracy'])\n",
    "history1 = classifier.fit(x=x_train, y=y_train_oh, epochs=30, verbose=1, validation_data=(x_test, y_test_oh))"
   ]
  },
  {
   "cell_type": "code",
   "execution_count": 6,
   "metadata": {},
   "outputs": [
    {
     "data": {
      "text/plain": [
       "Text(0.5,0,'epoch')"
      ]
     },
     "execution_count": 6,
     "metadata": {},
     "output_type": "execute_result"
    },
    {
     "data": {
      "image/png": "[encoded data removed]",
      "text/plain": [
       "<matplotlib.figure.Figure at 0x7fd08221c518>"
      ]
     },
     "metadata": {},
     "output_type": "display_data"
    }
   ],
   "source": [
    "plt.plot(history1.history['acc'])\n",
    "plt.title('model accuracy')\n",
    "plt.ylabel('accuracy')\n",
    "plt.xlabel('epoch')"
   ]
  },
  {
   "cell_type": "code",
   "execution_count": 7,
   "metadata": {},
   "outputs": [
    {
     "data": {
      "text/plain": [
       "Text(0.5,0,'epoch')"
      ]
     },
     "execution_count": 7,
     "metadata": {},
     "output_type": "execute_result"
    },
    {
     "data": {
      "image/png": "[encoded data removed]",
      "text/plain": [
       "<matplotlib.figure.Figure at 0x7fd08221c128>"
      ]
     },
     "metadata": {},
     "output_type": "display_data"
    }
   ],
   "source": [
    "plt.plot(history1.history['loss'])\n",
    "plt.title('model loss')\n",
    "plt.ylabel('loss')\n",
    "plt.xlabel('epoch')"
   ]
  },
  {
   "cell_type": "markdown",
   "metadata": {},
   "source": [
    "#### 2. Arquitetura"
   ]
  },
  {
   "cell_type": "code",
   "execution_count": 8,
   "metadata": {},
   "outputs": [
    {
     "name": "stdout",
     "output_type": "stream",
     "text": [
      "_________________________________________________________________\n",
      "Layer (type)                 Output Shape              Param #   \n",
      "=================================================================\n",
      "dense_4 (Dense)              (None, 20)                15700     \n",
      "_________________________________________________________________\n",
      "dense_5 (Dense)              (None, 30)                630       \n",
      "_________________________________________________________________\n",
      "dense_6 (Dense)              (None, 10)                310       \n",
      "=================================================================\n",
      "Total params: 16,640\n",
      "Trainable params: 16,640\n",
      "Non-trainable params: 0\n",
      "_________________________________________________________________\n"
     ]
    }
   ],
   "source": [
    "classifier = Sequential()\n",
    "classifier.add(Dense(units=20, activation='relu', input_shape=(x_train.shape[1],)))\n",
    "classifier.add(Dense(units=30, activation='relu'))\n",
    "classifier.add(Dense(D_out, activation='softmax'))\n",
    "\n",
    "classifier.summary()"
   ]
  },
  {
   "cell_type": "code",
   "execution_count": 9,
   "metadata": {},
   "outputs": [
    {
     "name": "stdout",
     "output_type": "stream",
     "text": [
      "Train on 60000 samples, validate on 10000 samples\n",
      "Epoch 1/30\n",
      "60000/60000 [==============================] - 6s 98us/step - loss: 0.7900 - acc: 0.7733 - val_loss: 0.3648 - val_acc: 0.8972\n",
      "Epoch 2/30\n",
      "60000/60000 [==============================] - 5s 86us/step - loss: 0.3452 - acc: 0.9010 - val_loss: 0.3132 - val_acc: 0.9082\n",
      "Epoch 3/30\n",
      "60000/60000 [==============================] - 6s 98us/step - loss: 0.2982 - acc: 0.9150 - val_loss: 0.2699 - val_acc: 0.9209\n",
      "Epoch 4/30\n",
      "60000/60000 [==============================] - 5s 89us/step - loss: 0.2706 - acc: 0.9231 - val_loss: 0.2523 - val_acc: 0.9283\n",
      "Epoch 5/30\n",
      "60000/60000 [==============================] - 5s 88us/step - loss: 0.2508 - acc: 0.9280 - val_loss: 0.2405 - val_acc: 0.9305\n",
      "Epoch 6/30\n",
      "60000/60000 [==============================] - 5s 81us/step - loss: 0.2344 - acc: 0.9327 - val_loss: 0.2333 - val_acc: 0.9339\n",
      "Epoch 7/30\n",
      "60000/60000 [==============================] - 5s 82us/step - loss: 0.2210 - acc: 0.9358 - val_loss: 0.2133 - val_acc: 0.9387\n",
      "Epoch 8/30\n",
      "60000/60000 [==============================] - 5s 79us/step - loss: 0.2088 - acc: 0.9402 - val_loss: 0.2086 - val_acc: 0.9396\n",
      "Epoch 9/30\n",
      "60000/60000 [==============================] - 5s 78us/step - loss: 0.1987 - acc: 0.9423 - val_loss: 0.1968 - val_acc: 0.9432\n",
      "Epoch 10/30\n",
      "60000/60000 [==============================] - 5s 77us/step - loss: 0.1894 - acc: 0.9454 - val_loss: 0.1913 - val_acc: 0.9455\n",
      "Epoch 11/30\n",
      "60000/60000 [==============================] - 8s 134us/step - loss: 0.1812 - acc: 0.9475 - val_loss: 0.1847 - val_acc: 0.9462\n",
      "Epoch 12/30\n",
      "60000/60000 [==============================] - 6s 97us/step - loss: 0.1741 - acc: 0.9501 - val_loss: 0.1822 - val_acc: 0.9466\n",
      "Epoch 13/30\n",
      "60000/60000 [==============================] - 5s 87us/step - loss: 0.1680 - acc: 0.9516 - val_loss: 0.1733 - val_acc: 0.9508\n",
      "Epoch 14/30\n",
      "60000/60000 [==============================] - 5s 85us/step - loss: 0.1623 - acc: 0.9532 - val_loss: 0.1745 - val_acc: 0.9490\n",
      "Epoch 15/30\n",
      "60000/60000 [==============================] - 5s 91us/step - loss: 0.1570 - acc: 0.9548 - val_loss: 0.1648 - val_acc: 0.9523\n",
      "Epoch 16/30\n",
      "60000/60000 [==============================] - 5s 84us/step - loss: 0.1522 - acc: 0.9562 - val_loss: 0.1639 - val_acc: 0.9524\n",
      "Epoch 17/30\n",
      "60000/60000 [==============================] - 5s 83us/step - loss: 0.1477 - acc: 0.9575 - val_loss: 0.1623 - val_acc: 0.9537\n",
      "Epoch 18/30\n",
      "60000/60000 [==============================] - 4s 74us/step - loss: 0.1439 - acc: 0.9582 - val_loss: 0.1580 - val_acc: 0.9550\n",
      "Epoch 19/30\n",
      "60000/60000 [==============================] - 5s 76us/step - loss: 0.1400 - acc: 0.9596 - val_loss: 0.1541 - val_acc: 0.9544\n",
      "Epoch 20/30\n",
      "60000/60000 [==============================] - 5s 91us/step - loss: 0.1361 - acc: 0.9610 - val_loss: 0.1489 - val_acc: 0.9543\n",
      "Epoch 21/30\n",
      "60000/60000 [==============================] - 5s 87us/step - loss: 0.1333 - acc: 0.9614 - val_loss: 0.1468 - val_acc: 0.9562\n",
      "Epoch 22/30\n",
      "60000/60000 [==============================] - 5s 89us/step - loss: 0.1296 - acc: 0.9627 - val_loss: 0.1478 - val_acc: 0.9549\n",
      "Epoch 23/30\n",
      "60000/60000 [==============================] - 5s 83us/step - loss: 0.1271 - acc: 0.9631 - val_loss: 0.1470 - val_acc: 0.9557\n",
      "Epoch 24/30\n",
      "60000/60000 [==============================] - 5s 83us/step - loss: 0.1243 - acc: 0.9634 - val_loss: 0.1442 - val_acc: 0.9572\n",
      "Epoch 25/30\n",
      "60000/60000 [==============================] - 5s 78us/step - loss: 0.1219 - acc: 0.9649 - val_loss: 0.1441 - val_acc: 0.9559\n",
      "Epoch 26/30\n",
      "60000/60000 [==============================] - 5s 86us/step - loss: 0.1194 - acc: 0.9655 - val_loss: 0.1396 - val_acc: 0.9605\n",
      "Epoch 27/30\n",
      "60000/60000 [==============================] - 4s 75us/step - loss: 0.1168 - acc: 0.9659 - val_loss: 0.1413 - val_acc: 0.9573\n",
      "Epoch 28/30\n",
      "60000/60000 [==============================] - 5s 82us/step - loss: 0.1148 - acc: 0.9661 - val_loss: 0.1385 - val_acc: 0.9599\n",
      "Epoch 29/30\n",
      "60000/60000 [==============================] - 5s 90us/step - loss: 0.1127 - acc: 0.9670 - val_loss: 0.1346 - val_acc: 0.9610\n",
      "Epoch 30/30\n",
      "60000/60000 [==============================] - 8s 130us/step - loss: 0.1107 - acc: 0.9678 - val_loss: 0.1375 - val_acc: 0.9596\n"
     ]
    }
   ],
   "source": [
    "classifier.compile(optimizer='sgd', loss='categorical_crossentropy',  metrics=['accuracy'])\n",
    "history2 = classifier.fit(x=x_train, y=y_train_oh, epochs=30, verbose=1, validation_data=(x_test, y_test_oh))"
   ]
  },
  {
   "cell_type": "code",
   "execution_count": 10,
   "metadata": {},
   "outputs": [
    {
     "data": {
      "text/plain": [
       "Text(0.5,0,'epoch')"
      ]
     },
     "execution_count": 10,
     "metadata": {},
     "output_type": "execute_result"
    },
    {
     "data": {
      "image/png": "[encoded data removed]",
      "text/plain": [
       "<matplotlib.figure.Figure at 0x7fd07f2b07f0>"
      ]
     },
     "metadata": {},
     "output_type": "display_data"
    }
   ],
   "source": [
    "plt.plot(history2.history['acc'])\n",
    "plt.title('model accuracy')\n",
    "plt.ylabel('accuracy')\n",
    "plt.xlabel('epoch')"
   ]
  },
  {
   "cell_type": "code",
   "execution_count": 11,
   "metadata": {},
   "outputs": [
    {
     "data": {
      "text/plain": [
       "Text(0.5,0,'epoch')"
      ]
     },
     "execution_count": 11,
     "metadata": {},
     "output_type": "execute_result"
    },
    {
     "data": {
      "image/png": "[encoded data removed]",
      "text/plain": [
       "<matplotlib.figure.Figure at 0x7fd0613777f0>"
      ]
     },
     "metadata": {},
     "output_type": "display_data"
    }
   ],
   "source": [
    "plt.plot(history2.history['loss'])\n",
    "plt.title('model loss')\n",
    "plt.ylabel('loss')\n",
    "plt.xlabel('epoch')"
   ]
  },
  {
   "cell_type": "markdown",
   "metadata": {},
   "source": [
    "#### 3. Arquitetura"
   ]
  },
  {
   "cell_type": "code",
   "execution_count": 12,
   "metadata": {},
   "outputs": [
    {
     "name": "stdout",
     "output_type": "stream",
     "text": [
      "_________________________________________________________________\n",
      "Layer (type)                 Output Shape              Param #   \n",
      "=================================================================\n",
      "dense_7 (Dense)              (None, 30)                23550     \n",
      "_________________________________________________________________\n",
      "dense_8 (Dense)              (None, 30)                930       \n",
      "_________________________________________________________________\n",
      "dropout_1 (Dropout)          (None, 30)                0         \n",
      "_________________________________________________________________\n",
      "dense_9 (Dense)              (None, 10)                310       \n",
      "=================================================================\n",
      "Total params: 24,790\n",
      "Trainable params: 24,790\n",
      "Non-trainable params: 0\n",
      "_________________________________________________________________\n"
     ]
    }
   ],
   "source": [
    "classifier = Sequential()\n",
    "classifier.add(Dense(units=30, activation='relu', input_shape=(x_train.shape[1],)))\n",
    "classifier.add(Dense(units=30, activation='relu'))\n",
    "classifier.add(Dropout(rate=0.5))\n",
    "classifier.add(Dense(D_out, activation='softmax'))\n",
    "\n",
    "classifier.summary()"
   ]
  },
  {
   "cell_type": "code",
   "execution_count": 13,
   "metadata": {},
   "outputs": [
    {
     "name": "stdout",
     "output_type": "stream",
     "text": [
      "Train on 60000 samples, validate on 10000 samples\n",
      "Epoch 1/30\n",
      "60000/60000 [==============================] - 7s 116us/step - loss: 0.6745 - acc: 0.7868 - val_loss: 0.2231 - val_acc: 0.9356\n",
      "Epoch 2/30\n",
      "60000/60000 [==============================] - 7s 116us/step - loss: 0.3691 - acc: 0.8929 - val_loss: 0.1805 - val_acc: 0.9450\n",
      "Epoch 3/30\n",
      "60000/60000 [==============================] - 10s 167us/step - loss: 0.3013 - acc: 0.9137 - val_loss: 0.1628 - val_acc: 0.9524\n",
      "Epoch 4/30\n",
      "60000/60000 [==============================] - 7s 119us/step - loss: 0.2682 - acc: 0.9223 - val_loss: 0.1479 - val_acc: 0.9553\n",
      "Epoch 5/30\n",
      "60000/60000 [==============================] - 7s 117us/step - loss: 0.2441 - acc: 0.9292 - val_loss: 0.1434 - val_acc: 0.9594\n",
      "Epoch 6/30\n",
      "60000/60000 [==============================] - 7s 111us/step - loss: 0.2268 - acc: 0.9336 - val_loss: 0.1382 - val_acc: 0.9619\n",
      "Epoch 7/30\n",
      "60000/60000 [==============================] - 6s 100us/step - loss: 0.2135 - acc: 0.9371 - val_loss: 0.1385 - val_acc: 0.9640\n",
      "Epoch 8/30\n",
      "60000/60000 [==============================] - 6s 103us/step - loss: 0.2016 - acc: 0.9415 - val_loss: 0.1385 - val_acc: 0.9623\n",
      "Epoch 9/30\n",
      "60000/60000 [==============================] - 8s 128us/step - loss: 0.1918 - acc: 0.9435 - val_loss: 0.1407 - val_acc: 0.9655\n",
      "Epoch 10/30\n",
      "60000/60000 [==============================] - 9s 158us/step - loss: 0.1829 - acc: 0.9449 - val_loss: 0.1437 - val_acc: 0.9644\n",
      "Epoch 11/30\n",
      "60000/60000 [==============================] - 7s 122us/step - loss: 0.1770 - acc: 0.9457 - val_loss: 0.1393 - val_acc: 0.9648\n",
      "Epoch 12/30\n",
      "60000/60000 [==============================] - 6s 103us/step - loss: 0.1706 - acc: 0.9479 - val_loss: 0.1406 - val_acc: 0.9645\n",
      "Epoch 13/30\n",
      "60000/60000 [==============================] - 6s 103us/step - loss: 0.1664 - acc: 0.9499 - val_loss: 0.1373 - val_acc: 0.9672\n",
      "Epoch 14/30\n",
      "60000/60000 [==============================] - 6s 101us/step - loss: 0.1668 - acc: 0.9489 - val_loss: 0.1392 - val_acc: 0.9651\n",
      "Epoch 15/30\n",
      "60000/60000 [==============================] - 6s 103us/step - loss: 0.1584 - acc: 0.9522 - val_loss: 0.1496 - val_acc: 0.9645\n",
      "Epoch 16/30\n",
      "60000/60000 [==============================] - 7s 120us/step - loss: 0.1553 - acc: 0.9524 - val_loss: 0.1451 - val_acc: 0.9674\n",
      "Epoch 17/30\n",
      "60000/60000 [==============================] - 6s 103us/step - loss: 0.1512 - acc: 0.9539 - val_loss: 0.1524 - val_acc: 0.9649\n",
      "Epoch 18/30\n",
      "60000/60000 [==============================] - 6s 104us/step - loss: 0.1497 - acc: 0.9540 - val_loss: 0.1505 - val_acc: 0.9645\n",
      "Epoch 19/30\n",
      "60000/60000 [==============================] - 6s 97us/step - loss: 0.1431 - acc: 0.9559 - val_loss: 0.1492 - val_acc: 0.9653\n",
      "Epoch 20/30\n",
      "60000/60000 [==============================] - 6s 94us/step - loss: 0.1415 - acc: 0.9570 - val_loss: 0.1646 - val_acc: 0.9650\n",
      "Epoch 21/30\n",
      "60000/60000 [==============================] - 6s 96us/step - loss: 0.1400 - acc: 0.9572 - val_loss: 0.1493 - val_acc: 0.9677\n",
      "Epoch 22/30\n",
      "60000/60000 [==============================] - 7s 116us/step - loss: 0.1343 - acc: 0.9589 - val_loss: 0.1575 - val_acc: 0.9656\n",
      "Epoch 23/30\n",
      "60000/60000 [==============================] - 7s 118us/step - loss: 0.1344 - acc: 0.9591 - val_loss: 0.1595 - val_acc: 0.9654\n",
      "Epoch 24/30\n",
      "60000/60000 [==============================] - 8s 128us/step - loss: 0.1354 - acc: 0.9586 - val_loss: 0.1564 - val_acc: 0.9673\n",
      "Epoch 25/30\n",
      "60000/60000 [==============================] - 9s 148us/step - loss: 0.1297 - acc: 0.9605 - val_loss: 0.1579 - val_acc: 0.9658\n",
      "Epoch 26/30\n",
      "60000/60000 [==============================] - 7s 118us/step - loss: 0.1267 - acc: 0.9611 - val_loss: 0.1647 - val_acc: 0.9647\n",
      "Epoch 27/30\n",
      "60000/60000 [==============================] - 7s 117us/step - loss: 0.1263 - acc: 0.9606 - val_loss: 0.1687 - val_acc: 0.9651\n",
      "Epoch 28/30\n",
      "60000/60000 [==============================] - 7s 117us/step - loss: 0.1268 - acc: 0.9609 - val_loss: 0.1657 - val_acc: 0.9666\n",
      "Epoch 29/30\n",
      "60000/60000 [==============================] - 7s 115us/step - loss: 0.1229 - acc: 0.9621 - val_loss: 0.1651 - val_acc: 0.9661\n",
      "Epoch 30/30\n",
      "60000/60000 [==============================] - 7s 116us/step - loss: 0.1204 - acc: 0.9625 - val_loss: 0.1709 - val_acc: 0.9665\n"
     ]
    }
   ],
   "source": [
    "classifier.compile(optimizer='adam', loss='categorical_crossentropy',  metrics=['accuracy'])\n",
    "history3 = classifier.fit(x=x_train, y=y_train_oh, epochs=30, verbose=1, validation_data=(x_test, y_test_oh))"
   ]
  },
  {
   "cell_type": "code",
   "execution_count": 31,
   "metadata": {},
   "outputs": [
    {
     "data": {
      "text/plain": [
       "Text(0.5,0,'epoch')"
      ]
     },
     "execution_count": 31,
     "metadata": {},
     "output_type": "execute_result"
    },
    {
     "data": {
      "image/png": "[encoded data removed]",
      "text/plain": [
       "<matplotlib.figure.Figure at 0x7fd05b345a90>"
      ]
     },
     "metadata": {},
     "output_type": "display_data"
    }
   ],
   "source": [
    "plt.plot(history3.history['acc'])\n",
    "plt.title('model accuracy')\n",
    "plt.ylabel('accuracy')\n",
    "plt.xlabel('epoch')"
   ]
  },
  {
   "cell_type": "code",
   "execution_count": 15,
   "metadata": {},
   "outputs": [
    {
     "data": {
      "text/plain": [
       "Text(0.5,0,'epoch')"
      ]
     },
     "execution_count": 15,
     "metadata": {},
     "output_type": "execute_result"
    },
    {
     "data": {
      "image/png": "[encoded data removed]",
      "text/plain": [
       "<matplotlib.figure.Figure at 0x7fd060d56eb8>"
      ]
     },
     "metadata": {},
     "output_type": "display_data"
    }
   ],
   "source": [
    "plt.plot(history3.history['loss'])\n",
    "plt.title('model loss')\n",
    "plt.ylabel('loss')\n",
    "plt.xlabel('epoch')"
   ]
  },
  {
   "cell_type": "markdown",
   "metadata": {},
   "source": [
    "#### 4. Arquitetura"
   ]
  },
  {
   "cell_type": "code",
   "execution_count": 21,
   "metadata": {},
   "outputs": [
    {
     "name": "stdout",
     "output_type": "stream",
     "text": [
      "_________________________________________________________________\n",
      "Layer (type)                 Output Shape              Param #   \n",
      "=================================================================\n",
      "dense_18 (Dense)             (None, 30)                23550     \n",
      "_________________________________________________________________\n",
      "dense_19 (Dense)             (None, 30)                930       \n",
      "_________________________________________________________________\n",
      "dense_20 (Dense)             (None, 30)                930       \n",
      "_________________________________________________________________\n",
      "dense_21 (Dense)             (None, 10)                310       \n",
      "=================================================================\n",
      "Total params: 25,720\n",
      "Trainable params: 25,720\n",
      "Non-trainable params: 0\n",
      "_________________________________________________________________\n"
     ]
    }
   ],
   "source": [
    "classifier = Sequential()\n",
    "classifier.add(Dense(units=30, activation='relu', input_shape=(x_train.shape[1],)))\n",
    "classifier.add(Dense(units=30, activation='relu'))\n",
    "classifier.add(Dense(units=30, activation='relu'))\n",
    "classifier.add(Dense(D_out, activation='sigmoid'))\n",
    "\n",
    "classifier.summary()"
   ]
  },
  {
   "cell_type": "code",
   "execution_count": 22,
   "metadata": {
    "scrolled": true
   },
   "outputs": [
    {
     "name": "stdout",
     "output_type": "stream",
     "text": [
      "Train on 60000 samples, validate on 10000 samples\n",
      "Epoch 1/30\n",
      "60000/60000 [==============================] - 6s 104us/step - loss: 1.2414 - acc: 0.6142 - val_loss: 0.4488 - val_acc: 0.8648\n",
      "Epoch 2/30\n",
      "60000/60000 [==============================] - 6s 99us/step - loss: 0.3678 - acc: 0.8944 - val_loss: 0.3018 - val_acc: 0.9145\n",
      "Epoch 3/30\n",
      "60000/60000 [==============================] - 6s 102us/step - loss: 0.2866 - acc: 0.9163 - val_loss: 0.2483 - val_acc: 0.9258\n",
      "Epoch 4/30\n",
      "60000/60000 [==============================] - 6s 100us/step - loss: 0.2467 - acc: 0.9280 - val_loss: 0.2156 - val_acc: 0.9361\n",
      "Epoch 5/30\n",
      "60000/60000 [==============================] - 6s 100us/step - loss: 0.2190 - acc: 0.9363 - val_loss: 0.2236 - val_acc: 0.9337\n",
      "Epoch 6/30\n",
      "60000/60000 [==============================] - 6s 102us/step - loss: 0.1986 - acc: 0.9429 - val_loss: 0.1879 - val_acc: 0.9434\n",
      "Epoch 7/30\n",
      "60000/60000 [==============================] - 6s 108us/step - loss: 0.1812 - acc: 0.9473 - val_loss: 0.1706 - val_acc: 0.9490\n",
      "Epoch 8/30\n",
      "60000/60000 [==============================] - 6s 106us/step - loss: 0.1679 - acc: 0.9505 - val_loss: 0.1689 - val_acc: 0.9486\n",
      "Epoch 9/30\n",
      "60000/60000 [==============================] - 6s 106us/step - loss: 0.1565 - acc: 0.9542 - val_loss: 0.1543 - val_acc: 0.9523\n",
      "Epoch 10/30\n",
      "60000/60000 [==============================] - 6s 107us/step - loss: 0.1458 - acc: 0.9571 - val_loss: 0.1557 - val_acc: 0.9524\n",
      "Epoch 11/30\n",
      "60000/60000 [==============================] - 7s 109us/step - loss: 0.1375 - acc: 0.9600 - val_loss: 0.1456 - val_acc: 0.9553\n",
      "Epoch 12/30\n",
      "60000/60000 [==============================] - 6s 107us/step - loss: 0.1301 - acc: 0.9615 - val_loss: 0.1535 - val_acc: 0.9518\n",
      "Epoch 13/30\n",
      "60000/60000 [==============================] - 7s 109us/step - loss: 0.1229 - acc: 0.9637 - val_loss: 0.1344 - val_acc: 0.9604\n",
      "Epoch 14/30\n",
      "60000/60000 [==============================] - 7s 109us/step - loss: 0.1177 - acc: 0.9649 - val_loss: 0.1307 - val_acc: 0.9606\n",
      "Epoch 15/30\n",
      "60000/60000 [==============================] - 6s 106us/step - loss: 0.1116 - acc: 0.9663 - val_loss: 0.1428 - val_acc: 0.9552\n",
      "Epoch 16/30\n",
      "60000/60000 [==============================] - 6s 107us/step - loss: 0.1068 - acc: 0.9686 - val_loss: 0.1263 - val_acc: 0.9618\n",
      "Epoch 17/30\n",
      "60000/60000 [==============================] - 7s 109us/step - loss: 0.1022 - acc: 0.9698 - val_loss: 0.1240 - val_acc: 0.9630\n",
      "Epoch 18/30\n",
      "60000/60000 [==============================] - 6s 108us/step - loss: 0.0983 - acc: 0.9708 - val_loss: 0.1299 - val_acc: 0.9622\n",
      "Epoch 19/30\n",
      "60000/60000 [==============================] - 7s 109us/step - loss: 0.0950 - acc: 0.9719 - val_loss: 0.1303 - val_acc: 0.9602\n",
      "Epoch 20/30\n",
      "60000/60000 [==============================] - 7s 110us/step - loss: 0.0908 - acc: 0.9726 - val_loss: 0.1308 - val_acc: 0.9619\n",
      "Epoch 21/30\n",
      "60000/60000 [==============================] - 7s 109us/step - loss: 0.0878 - acc: 0.9737 - val_loss: 0.1203 - val_acc: 0.9651\n",
      "Epoch 22/30\n",
      "60000/60000 [==============================] - 7s 108us/step - loss: 0.0842 - acc: 0.9748 - val_loss: 0.1195 - val_acc: 0.9640\n",
      "Epoch 23/30\n",
      "60000/60000 [==============================] - 7s 109us/step - loss: 0.0815 - acc: 0.9754 - val_loss: 0.1182 - val_acc: 0.9642\n",
      "Epoch 24/30\n",
      "60000/60000 [==============================] - 7s 110us/step - loss: 0.0793 - acc: 0.9761 - val_loss: 0.1281 - val_acc: 0.9637\n",
      "Epoch 25/30\n",
      "60000/60000 [==============================] - 7s 109us/step - loss: 0.0764 - acc: 0.9774 - val_loss: 0.1168 - val_acc: 0.9654\n",
      "Epoch 26/30\n",
      "60000/60000 [==============================] - 7s 109us/step - loss: 0.0742 - acc: 0.9774 - val_loss: 0.1193 - val_acc: 0.9647\n",
      "Epoch 27/30\n",
      "60000/60000 [==============================] - 7s 110us/step - loss: 0.0720 - acc: 0.9786 - val_loss: 0.1241 - val_acc: 0.9642\n",
      "Epoch 28/30\n",
      "60000/60000 [==============================] - 7s 112us/step - loss: 0.0698 - acc: 0.9794 - val_loss: 0.1256 - val_acc: 0.9633\n",
      "Epoch 29/30\n",
      "60000/60000 [==============================] - 7s 110us/step - loss: 0.0678 - acc: 0.9798 - val_loss: 0.1222 - val_acc: 0.9655\n",
      "Epoch 30/30\n",
      "60000/60000 [==============================] - 7s 109us/step - loss: 0.0653 - acc: 0.9804 - val_loss: 0.1158 - val_acc: 0.9665\n"
     ]
    }
   ],
   "source": [
    "classifier.compile(optimizer='sgd', loss='categorical_crossentropy',  metrics=['accuracy'])\n",
    "history4 = classifier.fit(x=x_train, y=y_train_oh, epochs=30, verbose=1, validation_data=(x_test, y_test_oh))"
   ]
  },
  {
   "cell_type": "code",
   "execution_count": 32,
   "metadata": {},
   "outputs": [
    {
     "data": {
      "text/plain": [
       "Text(0.5,0,'epoch')"
      ]
     },
     "execution_count": 32,
     "metadata": {},
     "output_type": "execute_result"
    },
    {
     "data": {
      "image/png": "[encoded data removed]",
      "text/plain": [
       "<matplotlib.figure.Figure at 0x7fd05b2bd4e0>"
      ]
     },
     "metadata": {},
     "output_type": "display_data"
    }
   ],
   "source": [
    "plt.plot(history4.history['acc'])\n",
    "plt.title('model accuracy')\n",
    "plt.ylabel('accuracy')\n",
    "plt.xlabel('epoch')"
   ]
  },
  {
   "cell_type": "code",
   "execution_count": 24,
   "metadata": {},
   "outputs": [
    {
     "data": {
      "text/plain": [
       "Text(0.5,0,'epoch')"
      ]
     },
     "execution_count": 24,
     "metadata": {},
     "output_type": "execute_result"
    },
    {
     "data": {
      "image/png": "[encoded data removed]",
      "text/plain": [
       "<matplotlib.figure.Figure at 0x7fd0603708d0>"
      ]
     },
     "metadata": {},
     "output_type": "display_data"
    }
   ],
   "source": [
    "plt.plot(history4.history['loss'])\n",
    "plt.title('model loss')\n",
    "plt.ylabel('loss')\n",
    "plt.xlabel('epoch')"
   ]
  },
  {
   "cell_type": "code",
   "execution_count": 25,
   "metadata": {},
   "outputs": [
    {
     "name": "stdout",
     "output_type": "stream",
     "text": [
      "_________________________________________________________________\n",
      "Layer (type)                 Output Shape              Param #   \n",
      "=================================================================\n",
      "dense_22 (Dense)             (None, 30)                23550     \n",
      "_________________________________________________________________\n",
      "dense_23 (Dense)             (None, 30)                930       \n",
      "_________________________________________________________________\n",
      "dense_24 (Dense)             (None, 30)                930       \n",
      "_________________________________________________________________\n",
      "dense_25 (Dense)             (None, 10)                310       \n",
      "=================================================================\n",
      "Total params: 25,720\n",
      "Trainable params: 25,720\n",
      "Non-trainable params: 0\n",
      "_________________________________________________________________\n"
     ]
    }
   ],
   "source": [
    "classifier = Sequential()\n",
    "classifier.add(Dense(units=30, activation='relu', input_shape=(x_train.shape[1],)))\n",
    "classifier.add(Dense(units=30, activation='relu'))\n",
    "classifier.add(Dense(units=30, activation='relu'))\n",
    "classifier.add(Dense(D_out, activation='softmax'))\n",
    "\n",
    "classifier.summary()"
   ]
  },
  {
   "cell_type": "code",
   "execution_count": 27,
   "metadata": {},
   "outputs": [
    {
     "name": "stdout",
     "output_type": "stream",
     "text": [
      "Train on 60000 samples, validate on 10000 samples\n",
      "Epoch 1/30\n",
      "60000/60000 [==============================] - 7s 119us/step - loss: 0.1980 - acc: 0.9421 - val_loss: 0.1599 - val_acc: 0.9527\n",
      "Epoch 2/30\n",
      "60000/60000 [==============================] - 9s 145us/step - loss: 0.1462 - acc: 0.9571 - val_loss: 0.1402 - val_acc: 0.9544\n",
      "Epoch 3/30\n",
      "60000/60000 [==============================] - 11s 177us/step - loss: 0.1216 - acc: 0.9640 - val_loss: 0.1216 - val_acc: 0.9622\n",
      "Epoch 4/30\n",
      "60000/60000 [==============================] - 6s 105us/step - loss: 0.1045 - acc: 0.9681 - val_loss: 0.1302 - val_acc: 0.9614\n",
      "Epoch 5/30\n",
      "60000/60000 [==============================] - 6s 98us/step - loss: 0.0924 - acc: 0.9711 - val_loss: 0.1162 - val_acc: 0.9642\n",
      "Epoch 6/30\n",
      "60000/60000 [==============================] - 11s 183us/step - loss: 0.0834 - acc: 0.9748 - val_loss: 0.1164 - val_acc: 0.9678\n",
      "Epoch 7/30\n",
      "60000/60000 [==============================] - 7s 115us/step - loss: 0.0758 - acc: 0.9764 - val_loss: 0.0983 - val_acc: 0.9715\n",
      "Epoch 8/30\n",
      "60000/60000 [==============================] - 7s 116us/step - loss: 0.0702 - acc: 0.9777 - val_loss: 0.1210 - val_acc: 0.9662\n",
      "Epoch 9/30\n",
      "60000/60000 [==============================] - 7s 120us/step - loss: 0.0650 - acc: 0.9795 - val_loss: 0.1176 - val_acc: 0.9663\n",
      "Epoch 10/30\n",
      "60000/60000 [==============================] - 7s 115us/step - loss: 0.0597 - acc: 0.9806 - val_loss: 0.1151 - val_acc: 0.9662\n",
      "Epoch 11/30\n",
      "60000/60000 [==============================] - 8s 130us/step - loss: 0.0561 - acc: 0.9823 - val_loss: 0.1143 - val_acc: 0.9683\n",
      "Epoch 12/30\n",
      "60000/60000 [==============================] - 9s 149us/step - loss: 0.0508 - acc: 0.9833 - val_loss: 0.1013 - val_acc: 0.9715\n",
      "Epoch 13/30\n",
      "60000/60000 [==============================] - 9s 149us/step - loss: 0.0501 - acc: 0.9840 - val_loss: 0.1320 - val_acc: 0.9660\n",
      "Epoch 14/30\n",
      "60000/60000 [==============================] - 11s 191us/step - loss: 0.0454 - acc: 0.9851 - val_loss: 0.1173 - val_acc: 0.9692\n",
      "Epoch 15/30\n",
      "60000/60000 [==============================] - 10s 160us/step - loss: 0.0448 - acc: 0.9857 - val_loss: 0.1137 - val_acc: 0.9714\n",
      "Epoch 16/30\n",
      "60000/60000 [==============================] - 7s 115us/step - loss: 0.0405 - acc: 0.9872 - val_loss: 0.1246 - val_acc: 0.9687\n",
      "Epoch 17/30\n",
      "60000/60000 [==============================] - 8s 141us/step - loss: 0.0387 - acc: 0.9876 - val_loss: 0.1124 - val_acc: 0.9725\n",
      "Epoch 18/30\n",
      "60000/60000 [==============================] - 7s 111us/step - loss: 0.0366 - acc: 0.9881 - val_loss: 0.1201 - val_acc: 0.9699\n",
      "Epoch 19/30\n",
      "60000/60000 [==============================] - 12s 197us/step - loss: 0.0366 - acc: 0.9878 - val_loss: 0.1198 - val_acc: 0.9715\n",
      "Epoch 20/30\n",
      "60000/60000 [==============================] - 8s 128us/step - loss: 0.0321 - acc: 0.9896 - val_loss: 0.1253 - val_acc: 0.9701\n",
      "Epoch 21/30\n",
      "60000/60000 [==============================] - 7s 114us/step - loss: 0.0322 - acc: 0.9896 - val_loss: 0.1330 - val_acc: 0.9666\n",
      "Epoch 22/30\n",
      "60000/60000 [==============================] - 7s 120us/step - loss: 0.0312 - acc: 0.9897 - val_loss: 0.1149 - val_acc: 0.9732\n",
      "Epoch 23/30\n",
      "60000/60000 [==============================] - 7s 119us/step - loss: 0.0292 - acc: 0.9906 - val_loss: 0.1347 - val_acc: 0.9697\n",
      "Epoch 24/30\n",
      "60000/60000 [==============================] - 7s 114us/step - loss: 0.0297 - acc: 0.9904 - val_loss: 0.1330 - val_acc: 0.9701\n",
      "Epoch 25/30\n",
      "60000/60000 [==============================] - 7s 115us/step - loss: 0.0280 - acc: 0.9910 - val_loss: 0.1253 - val_acc: 0.9715\n",
      "Epoch 26/30\n",
      "60000/60000 [==============================] - 9s 142us/step - loss: 0.0270 - acc: 0.9908 - val_loss: 0.1470 - val_acc: 0.9696\n",
      "Epoch 27/30\n",
      "60000/60000 [==============================] - 7s 111us/step - loss: 0.0247 - acc: 0.9922 - val_loss: 0.1354 - val_acc: 0.9725\n",
      "Epoch 28/30\n",
      "60000/60000 [==============================] - 8s 128us/step - loss: 0.0249 - acc: 0.9914 - val_loss: 0.1403 - val_acc: 0.9706\n",
      "Epoch 29/30\n",
      "60000/60000 [==============================] - 9s 152us/step - loss: 0.0219 - acc: 0.9923 - val_loss: 0.1536 - val_acc: 0.9699\n",
      "Epoch 30/30\n",
      "60000/60000 [==============================] - 7s 118us/step - loss: 0.0238 - acc: 0.9920 - val_loss: 0.1454 - val_acc: 0.9704\n"
     ]
    }
   ],
   "source": [
    "classifier.compile(optimizer='adam', loss='categorical_crossentropy',  metrics=['accuracy'])\n",
    "history5 = classifier.fit(x=x_train, y=y_train_oh, epochs=30, verbose=1, validation_data=(x_test, y_test_oh))"
   ]
  },
  {
   "cell_type": "code",
   "execution_count": 33,
   "metadata": {},
   "outputs": [
    {
     "data": {
      "text/plain": [
       "Text(0.5,0,'epoch')"
      ]
     },
     "execution_count": 33,
     "metadata": {},
     "output_type": "execute_result"
    },
    {
     "data": {
      "image/png": "[encoded data removed]",
      "text/plain": [
       "<matplotlib.figure.Figure at 0x7fd05b20f8d0>"
      ]
     },
     "metadata": {},
     "output_type": "display_data"
    }
   ],
   "source": [
    "plt.plot(history5.history['acc'])\n",
    "plt.title('model accuracy')\n",
    "plt.ylabel('accuracy')\n",
    "plt.xlabel('epoch')"
   ]
  },
  {
   "cell_type": "code",
   "execution_count": 29,
   "metadata": {},
   "outputs": [
    {
     "data": {
      "text/plain": [
       "Text(0.5,0,'epoch')"
      ]
     },
     "execution_count": 29,
     "metadata": {},
     "output_type": "execute_result"
    },
    {
     "data": {
      "image/png": "[encoded data removed]",
      "text/plain": [
       "<matplotlib.figure.Figure at 0x7fd05b9c7b38>"
      ]
     },
     "metadata": {},
     "output_type": "display_data"
    }
   ],
   "source": [
    "plt.plot(history5.history['loss'])\n",
    "plt.title('model loss')\n",
    "plt.ylabel('loss')\n",
    "plt.xlabel('epoch')"
   ]
  },
  {
   "cell_type": "markdown",
   "metadata": {},
   "source": [
    "## Comparações\n",
    "\n",
    "A melhor arquitetura dentre as apresentadas, foi a **5** como podemos verificar na tabela abaixo:\n",
    "\n",
    "| Arquitetura |Camadas|Neurônios|Funções de Ativação|Otimizador| Função de custo        | Épocas | Acc  | Loss |\n",
    "|:-----------:|:-----:|:-------:|-------------------|:--------:|------------------------|:------:|------|------|\n",
    "| 1           | 3     | 50      |relu, relu, sigmoid|adam      |categorical_crossentropy| 30     |0.9771|0.0707|\n",
    "| 2           | 3     | 60      |relu, relu, softmax|sgd       |categorical_crossentropy| 30     |0.9678|0.1107|\n",
    "| 3           | 3     | 70      |relu, relu, softmax|adam      |categorical_crossentropy| 30     |0.9625|0.1204|\n",
    "| 4           | 4     | 100     |relu, relu,relu, sigmoid|sgd   |categorical_crossentropy| 30     |0.9804|0.0653|\n",
    "| 5           | 4     | 100     |relu, relu,relu, softmax|adam  |categorical_crossentropy| 30     |0.9920|0.0238|"
   ]
  }
 ],
 "metadata": {
  "kernelspec": {
   "display_name": "Python 3",
   "language": "python",
   "name": "python3"
  },
  "language_info": {
   "codemirror_mode": {
    "name": "ipython",
    "version": 3
   },
   "file_extension": ".py",
   "mimetype": "text/x-python",
   "name": "python",
   "nbconvert_exporter": "python",
   "pygments_lexer": "ipython3",
   "version": "3.6.4"
  }
 },
 "nbformat": 4,
 "nbformat_minor": 2
}
