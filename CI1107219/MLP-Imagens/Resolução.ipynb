{
 "cells": [
  {
   "cell_type": "markdown",
   "metadata": {},
   "source": [
    "## Sumário\n",
    "\n",
    "[Implementação](#)\n",
    "\n",
    "[Definição de Topologia da Rede](#)\n",
    "\n",
    "[Definir otimizador, função custo e modo do treinamento](#)\n",
    "\n",
    "[Referências](#)"
   ]
  },
  {
   "cell_type": "markdown",
   "metadata": {},
   "source": [
    "## Imports"
   ]
  },
  {
   "cell_type": "code",
   "execution_count": 67,
   "metadata": {},
   "outputs": [],
   "source": [
    "import numpy as np\n",
    "import tensorflow as tf\n",
    "from keras.datasets import mnist\n",
    "from keras.models import Sequential\n",
    "from keras.layers import Dense\n",
    "from keras.utils import to_categorical\n",
    "import matplotlib.pyplot as plt\n",
    "\n",
    "%matplotlib inline"
   ]
  },
  {
   "cell_type": "markdown",
   "metadata": {},
   "source": [
    "## Implementação"
   ]
  },
  {
   "cell_type": "markdown",
   "metadata": {},
   "source": [
    "### Leitura, visualização e pré-processamento do dataset\n",
    "Ao utilizar Redes Neurais para imagens, cada entrada é um pixel. Dessa forma, após a leitura do dataset, precisa-se descobrir as dimensões da imagem, a quantidade de instâncias, quantas classes e entradas são necessárias para o problema.\n",
    "\n",
    "Feito isso, algumas técnicas de pré-processamento devem ser utilizadas para melhores resultados, dentre eles converter a imagem para tons de cinza e normalizar."
   ]
  },
  {
   "cell_type": "code",
   "execution_count": 77,
   "metadata": {},
   "outputs": [
    {
     "data": {
      "text/plain": [
       "((60000, 784), (60000,), (10000, 784), (10000,))"
      ]
     },
     "execution_count": 77,
     "metadata": {},
     "output_type": "execute_result"
    },
    {
     "data": {
      "image/png": "[encoded data removed]",
      "text/plain": [
       "<matplotlib.figure.Figure at 0x7f95002d9940>"
      ]
     },
     "metadata": {},
     "output_type": "display_data"
    }
   ],
   "source": [
    "# carrega dataset\n",
    "(x_train, y_train), (x_test, y_test) = mnist.load_data()\n",
    "\n",
    "plt.imshow(x_train[9000], cmap=plt.get_cmap('gray'))\n",
    "plt.title(y_train[5])\n",
    "\n",
    "# normalizando entrada\n",
    "x_train, x_test = x_train.reshape(-1,784)/255.0, x_test.reshape(-1,784)/255.0\n",
    "\n",
    "x_train.shape, y_train.shape, x_test.shape, y_test.shape"
   ]
  },
  {
   "cell_type": "markdown",
   "metadata": {},
   "source": [
    "### Conversão do array de predições Y\n",
    "\n",
    "Baseado no número de classes do problema, represente a saída como one-hot encoding."
   ]
  },
  {
   "cell_type": "code",
   "execution_count": 87,
   "metadata": {},
   "outputs": [
    {
     "data": {
      "text/plain": [
       "((60000, 10), (10000, 10))"
      ]
     },
     "execution_count": 87,
     "metadata": {},
     "output_type": "execute_result"
    }
   ],
   "source": [
    "# numero de classes\n",
    "D_out = 10\n",
    "# one hot encoding\n",
    "y_train_oh, y_test_oh = to_categorical(y_train, D_out), to_categorical(y_test, D_out)\n",
    "\n",
    "y_train_oh.shape, y_test_oh.shape"
   ]
  },
  {
   "cell_type": "markdown",
   "metadata": {},
   "source": [
    "### Definição de Topologia da Rede\n",
    "Mostre as três arquiteturas que serão utilizadas para resolver o problema. As arquiteturas devem ser simples de forma a retornar bons resultados com a menor quantidade necessária de neurônios e camadas. As três arquiteturas devem variar apenas quanto ao número de neurônios e camadas (incluindo regularização). Baseado nisso, explique:\n",
    "\n",
    "* Quantos neurônios serão utilizados em cada camada?\n",
    "* Quantas camadas serão utilizadas?\n",
    "* É necessário utilizar regularização? Se sim explique a técnica que foi utilizada e o impacto nos resultados\n",
    "* Qual função de ativação será utilizada? Escolha duas funções de ativação e explique os resultados obtidos"
   ]
  },
  {
   "cell_type": "markdown",
   "metadata": {},
   "source": [
    "#### 1.1 Arquitetura"
   ]
  },
  {
   "cell_type": "code",
   "execution_count": 119,
   "metadata": {},
   "outputs": [
    {
     "name": "stdout",
     "output_type": "stream",
     "text": [
      "_________________________________________________________________\n",
      "Layer (type)                 Output Shape              Param #   \n",
      "=================================================================\n",
      "dense_39 (Dense)             (None, 20)                15700     \n",
      "_________________________________________________________________\n",
      "dense_40 (Dense)             (None, 20)                420       \n",
      "_________________________________________________________________\n",
      "dense_41 (Dense)             (None, 10)                210       \n",
      "=================================================================\n",
      "Total params: 16,330\n",
      "Trainable params: 16,330\n",
      "Non-trainable params: 0\n",
      "_________________________________________________________________\n"
     ]
    }
   ],
   "source": [
    "classifier = Sequential()\n",
    "classifier.add(Dense(units=20, activation='relu', input_shape=(x_train.shape[1],)))\n",
    "classifier.add(Dense(units=20, activation='relu'))\n",
    "classifier.add(Dense(D_out, activation='sigmoid'))\n",
    "\n",
    "classifier.summary()"
   ]
  },
  {
   "cell_type": "code",
   "execution_count": 120,
   "metadata": {},
   "outputs": [
    {
     "name": "stdout",
     "output_type": "stream",
     "text": [
      "Train on 60000 samples, validate on 10000 samples\n",
      "Epoch 1/30\n",
      "60000/60000 [==============================] - 8s 125us/step - loss: 0.4392 - acc: 0.8768 - val_loss: 0.2490 - val_acc: 0.9268\n",
      "Epoch 2/30\n",
      "60000/60000 [==============================] - 7s 119us/step - loss: 0.2442 - acc: 0.9292 - val_loss: 0.2105 - val_acc: 0.9386\n",
      "Epoch 3/30\n",
      "60000/60000 [==============================] - 7s 116us/step - loss: 0.2067 - acc: 0.9405 - val_loss: 0.1888 - val_acc: 0.9461\n",
      "Epoch 4/30\n",
      "60000/60000 [==============================] - 7s 111us/step - loss: 0.1823 - acc: 0.9470 - val_loss: 0.1913 - val_acc: 0.9433\n",
      "Epoch 5/30\n",
      "60000/60000 [==============================] - 7s 122us/step - loss: 0.1636 - acc: 0.9515 - val_loss: 0.1710 - val_acc: 0.9504\n",
      "Epoch 6/30\n",
      "60000/60000 [==============================] - 7s 125us/step - loss: 0.1501 - acc: 0.9558 - val_loss: 0.1500 - val_acc: 0.9564\n",
      "Epoch 7/30\n",
      "60000/60000 [==============================] - 6s 105us/step - loss: 0.1379 - acc: 0.9585 - val_loss: 0.1466 - val_acc: 0.9589\n",
      "Epoch 8/30\n",
      "60000/60000 [==============================] - 6s 98us/step - loss: 0.1291 - acc: 0.9612 - val_loss: 0.1499 - val_acc: 0.9574\n",
      "Epoch 9/30\n",
      "60000/60000 [==============================] - 6s 93us/step - loss: 0.1231 - acc: 0.9636 - val_loss: 0.1430 - val_acc: 0.9603\n",
      "Epoch 10/30\n",
      "60000/60000 [==============================] - 6s 101us/step - loss: 0.1155 - acc: 0.9657 - val_loss: 0.1432 - val_acc: 0.9598\n",
      "Epoch 11/30\n",
      "60000/60000 [==============================] - 6s 103us/step - loss: 0.1105 - acc: 0.9664 - val_loss: 0.1375 - val_acc: 0.9609\n",
      "Epoch 12/30\n",
      "60000/60000 [==============================] - 6s 103us/step - loss: 0.1062 - acc: 0.9676 - val_loss: 0.1307 - val_acc: 0.9634\n",
      "Epoch 13/30\n",
      "60000/60000 [==============================] - 6s 94us/step - loss: 0.1019 - acc: 0.9693 - val_loss: 0.1506 - val_acc: 0.9579\n",
      "Epoch 14/30\n",
      "60000/60000 [==============================] - 6s 94us/step - loss: 0.0981 - acc: 0.9698 - val_loss: 0.1461 - val_acc: 0.9590\n",
      "Epoch 15/30\n",
      "60000/60000 [==============================] - 6s 94us/step - loss: 0.0945 - acc: 0.9713 - val_loss: 0.1547 - val_acc: 0.9567\n",
      "Epoch 16/30\n",
      "60000/60000 [==============================] - 8s 127us/step - loss: 0.0911 - acc: 0.9720 - val_loss: 0.1400 - val_acc: 0.9620\n",
      "Epoch 17/30\n",
      "60000/60000 [==============================] - 8s 130us/step - loss: 0.0893 - acc: 0.9723 - val_loss: 0.1539 - val_acc: 0.9581\n",
      "Epoch 18/30\n",
      "60000/60000 [==============================] - 7s 110us/step - loss: 0.0856 - acc: 0.9732 - val_loss: 0.1549 - val_acc: 0.9599\n",
      "Epoch 19/30\n",
      "60000/60000 [==============================] - 7s 121us/step - loss: 0.0836 - acc: 0.9746 - val_loss: 0.1448 - val_acc: 0.9610\n",
      "Epoch 20/30\n",
      "60000/60000 [==============================] - 6s 107us/step - loss: 0.0809 - acc: 0.9750 - val_loss: 0.1418 - val_acc: 0.9614\n",
      "Epoch 21/30\n",
      "60000/60000 [==============================] - 6s 104us/step - loss: 0.0791 - acc: 0.9758 - val_loss: 0.1438 - val_acc: 0.9626\n",
      "Epoch 22/30\n",
      "60000/60000 [==============================] - 7s 110us/step - loss: 0.0777 - acc: 0.9765 - val_loss: 0.1425 - val_acc: 0.9639\n",
      "Epoch 23/30\n",
      "60000/60000 [==============================] - 7s 120us/step - loss: 0.0749 - acc: 0.9771 - val_loss: 0.1454 - val_acc: 0.9620\n",
      "Epoch 24/30\n",
      "60000/60000 [==============================] - 8s 130us/step - loss: 0.0742 - acc: 0.9772 - val_loss: 0.1584 - val_acc: 0.9600\n",
      "Epoch 25/30\n",
      "60000/60000 [==============================] - 7s 111us/step - loss: 0.0719 - acc: 0.9772 - val_loss: 0.1513 - val_acc: 0.9600\n",
      "Epoch 26/30\n",
      "60000/60000 [==============================] - 7s 110us/step - loss: 0.0705 - acc: 0.9785 - val_loss: 0.1451 - val_acc: 0.9627\n",
      "Epoch 27/30\n",
      "60000/60000 [==============================] - 7s 115us/step - loss: 0.0682 - acc: 0.9788 - val_loss: 0.1678 - val_acc: 0.9589\n",
      "Epoch 28/30\n",
      "60000/60000 [==============================] - 7s 110us/step - loss: 0.0672 - acc: 0.9786 - val_loss: 0.1445 - val_acc: 0.9626\n",
      "Epoch 29/30\n",
      "60000/60000 [==============================] - 7s 111us/step - loss: 0.0649 - acc: 0.9795 - val_loss: 0.1524 - val_acc: 0.9608\n",
      "Epoch 30/30\n",
      "60000/60000 [==============================] - 7s 111us/step - loss: 0.0646 - acc: 0.9797 - val_loss: 0.1543 - val_acc: 0.9622\n"
     ]
    },
    {
     "data": {
      "text/plain": [
       "dict_keys(['val_loss', 'val_acc', 'loss', 'acc'])"
      ]
     },
     "execution_count": 120,
     "metadata": {},
     "output_type": "execute_result"
    }
   ],
   "source": [
    "classifier.compile(optimizer='adam', loss='categorical_crossentropy',  metrics=['accuracy'])\n",
    "history = classifier.fit(x=x_train, y=y_train_oh, epochs=30, verbose=1, validation_data=(x_test, y_test_oh))\n",
    "history.history.keys()"
   ]
  },
  {
   "cell_type": "code",
   "execution_count": 123,
   "metadata": {},
   "outputs": [
    {
     "data": {
      "text/plain": [
       "Text(0.5,0,'epoch')"
      ]
     },
     "execution_count": 123,
     "metadata": {},
     "output_type": "execute_result"
    },
    {
     "data": {
      "image/png": "[encoded data removed]",
      "text/plain": [
       "<matplotlib.figure.Figure at 0x7f94dd24a400>"
      ]
     },
     "metadata": {},
     "output_type": "display_data"
    }
   ],
   "source": [
    "plt.plot(history.history['acc'])\n",
    "plt.title('model accuracy')\n",
    "plt.ylabel('accuracy')\n",
    "plt.xlabel('epoch')"
   ]
  },
  {
   "cell_type": "code",
   "execution_count": 124,
   "metadata": {},
   "outputs": [
    {
     "data": {
      "text/plain": [
       "Text(0.5,0,'epoch')"
      ]
     },
     "execution_count": 124,
     "metadata": {},
     "output_type": "execute_result"
    },
    {
     "data": {
      "image/png": "[encoded data removed]",
      "text/plain": [
       "<matplotlib.figure.Figure at 0x7f94de93d3c8>"
      ]
     },
     "metadata": {},
     "output_type": "display_data"
    }
   ],
   "source": [
    "plt.plot(history.history['loss'])\n",
    "plt.title('model loss')\n",
    "plt.ylabel('loss')\n",
    "plt.xlabel('epoch')"
   ]
  }
 ],
 "metadata": {
  "kernelspec": {
   "display_name": "Python 3",
   "language": "python",
   "name": "python3"
  }
 },
 "nbformat": 4,
 "nbformat_minor": 2
}
