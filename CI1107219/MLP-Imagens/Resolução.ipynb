{
 "cells": [
  {
   "cell_type": "markdown",
   "metadata": {},
   "source": [
    "## Sumário\n",
    "\n",
    "[Implementação](#)\n",
    "\n",
    "[Definição de Topologia da Rede](#)\n",
    "\n",
    "[Definir otimizador, função custo e modo do treinamento](#)\n",
    "\n",
    "[Referências](#)"
   ]
  },
  {
   "cell_type": "markdown",
   "metadata": {},
   "source": [
    "## Imports"
   ]
  },
  {
   "cell_type": "code",
   "execution_count": 14,
   "metadata": {},
   "outputs": [],
   "source": [
    "import numpy as np\n",
    "import tensorflow as tf\n",
    "from keras.datasets import mnist\n",
    "from keras.models import Sequential\n",
    "from keras.layers import Dense, Dropout\n",
    "from keras.utils import to_categorical\n",
    "import matplotlib.pyplot as plt\n",
    "\n",
    "%matplotlib inline"
   ]
  },
  {
   "cell_type": "markdown",
   "metadata": {},
   "source": [
    "## Implementação"
   ]
  },
  {
   "cell_type": "markdown",
   "metadata": {},
   "source": [
    "### Leitura, visualização e pré-processamento do dataset\n",
    "Ao utilizar Redes Neurais para imagens, cada entrada é um pixel. Dessa forma, após a leitura do dataset, precisa-se descobrir as dimensões da imagem, a quantidade de instâncias, quantas classes e entradas são necessárias para o problema.\n",
    "\n",
    "Feito isso, algumas técnicas de pré-processamento devem ser utilizadas para melhores resultados, dentre eles converter a imagem para tons de cinza e normalizar."
   ]
  },
  {
   "cell_type": "code",
   "execution_count": 2,
   "metadata": {},
   "outputs": [
    {
     "name": "stdout",
     "output_type": "stream",
     "text": [
      "Downloading data from https://s3.amazonaws.com/img-datasets/mnist.npz\n",
      "11493376/11490434 [==============================] - 40s 3us/step\n"
     ]
    },
    {
     "data": {
      "text/plain": [
       "((60000, 784), (60000,), (10000, 784), (10000,))"
      ]
     },
     "execution_count": 2,
     "metadata": {},
     "output_type": "execute_result"
    },
    {
     "data": {
      "image/png": "[encoded data removed]",
      "text/plain": [
       "<Figure size 432x288 with 1 Axes>"
      ]
     },
     "metadata": {},
     "output_type": "display_data"
    }
   ],
   "source": [
    "# carrega dataset\n",
    "(x_train, y_train), (x_test, y_test) = mnist.load_data()\n",
    "\n",
    "plt.imshow(x_train[9000], cmap=plt.get_cmap('gray'))\n",
    "plt.title(y_train[5])\n",
    "\n",
    "# normalizando entrada\n",
    "x_train, x_test = x_train.reshape(-1,784)/255.0, x_test.reshape(-1,784)/255.0\n",
    "\n",
    "x_train.shape, y_train.shape, x_test.shape, y_test.shape"
   ]
  },
  {
   "cell_type": "markdown",
   "metadata": {},
   "source": [
    "### Conversão do array de predições Y\n",
    "\n",
    "Baseado no número de classes do problema, represente a saída como one-hot encoding."
   ]
  },
  {
   "cell_type": "code",
   "execution_count": 4,
   "metadata": {},
   "outputs": [
    {
     "data": {
      "text/plain": [
       "((60000, 10), (10000, 10))"
      ]
     },
     "execution_count": 4,
     "metadata": {},
     "output_type": "execute_result"
    }
   ],
   "source": [
    "# numero de classes\n",
    "D_out = 10\n",
    "# one hot encoding\n",
    "y_train_oh, y_test_oh = to_categorical(y_train, D_out), to_categorical(y_test, D_out)\n",
    "\n",
    "y_train_oh.shape, y_test_oh.shape"
   ]
  },
  {
   "cell_type": "markdown",
   "metadata": {},
   "source": [
    "### Definição de Topologia da Rede\n",
    "Mostre as três arquiteturas que serão utilizadas para resolver o problema. As arquiteturas devem ser simples de forma a retornar bons resultados com a menor quantidade necessária de neurônios e camadas. As três arquiteturas devem variar apenas quanto ao número de neurônios e camadas (incluindo regularização). Baseado nisso, explique:\n",
    "\n",
    "* Quantos neurônios serão utilizados em cada camada?\n",
    "* Quantas camadas serão utilizadas?\n",
    "* É necessário utilizar regularização? Se sim explique a técnica que foi utilizada e o impacto nos resultados\n",
    "* Qual função de ativação será utilizada? Escolha duas funções de ativação e explique os resultados obtidos"
   ]
  },
  {
   "cell_type": "markdown",
   "metadata": {},
   "source": [
    "#### 1.1 Arquitetura"
   ]
  },
  {
   "cell_type": "code",
   "execution_count": 5,
   "metadata": {},
   "outputs": [
    {
     "name": "stdout",
     "output_type": "stream",
     "text": [
      "_________________________________________________________________\n",
      "Layer (type)                 Output Shape              Param #   \n",
      "=================================================================\n",
      "dense_1 (Dense)              (None, 20)                15700     \n",
      "_________________________________________________________________\n",
      "dense_2 (Dense)              (None, 20)                420       \n",
      "_________________________________________________________________\n",
      "dense_3 (Dense)              (None, 10)                210       \n",
      "=================================================================\n",
      "Total params: 16,330\n",
      "Trainable params: 16,330\n",
      "Non-trainable params: 0\n",
      "_________________________________________________________________\n"
     ]
    }
   ],
   "source": [
    "classifier = Sequential()\n",
    "classifier.add(Dense(units=20, activation='relu', input_shape=(x_train.shape[1],)))\n",
    "classifier.add(Dense(units=20, activation='relu'))\n",
    "classifier.add(Dense(D_out, activation='sigmoid'))\n",
    "\n",
    "classifier.summary()"
   ]
  },
  {
   "cell_type": "code",
   "execution_count": 6,
   "metadata": {},
   "outputs": [
    {
     "name": "stdout",
     "output_type": "stream",
     "text": [
      "Train on 60000 samples, validate on 10000 samples\n",
      "Epoch 1/30\n",
      "60000/60000 [==============================] - 17s 278us/step - loss: 0.4395 - acc: 0.8631 - val_loss: 0.2631 - val_acc: 0.9226\n",
      "Epoch 2/30\n",
      "60000/60000 [==============================] - 15s 248us/step - loss: 0.2376 - acc: 0.9311 - val_loss: 0.2147 - val_acc: 0.9354\n",
      "Epoch 3/30\n",
      "60000/60000 [==============================] - 14s 235us/step - loss: 0.1975 - acc: 0.9416 - val_loss: 0.1798 - val_acc: 0.9450\n",
      "Epoch 4/30\n",
      "60000/60000 [==============================] - 14s 235us/step - loss: 0.1729 - acc: 0.9481 - val_loss: 0.1689 - val_acc: 0.9498\n",
      "Epoch 5/30\n",
      "60000/60000 [==============================] - 14s 234us/step - loss: 0.1576 - acc: 0.9530 - val_loss: 0.1704 - val_acc: 0.9482\n",
      "Epoch 6/30\n",
      "60000/60000 [==============================] - 15s 248us/step - loss: 0.1456 - acc: 0.9574 - val_loss: 0.1633 - val_acc: 0.9514\n",
      "Epoch 7/30\n",
      "60000/60000 [==============================] - 14s 234us/step - loss: 0.1339 - acc: 0.9615 - val_loss: 0.1405 - val_acc: 0.9587\n",
      "Epoch 8/30\n",
      "60000/60000 [==============================] - 14s 233us/step - loss: 0.1271 - acc: 0.9627 - val_loss: 0.1511 - val_acc: 0.9565\n",
      "Epoch 9/30\n",
      "60000/60000 [==============================] - 14s 234us/step - loss: 0.1201 - acc: 0.9651 - val_loss: 0.1431 - val_acc: 0.9574\n",
      "Epoch 10/30\n",
      "60000/60000 [==============================] - 15s 245us/step - loss: 0.1136 - acc: 0.9667 - val_loss: 0.1443 - val_acc: 0.9573\n",
      "Epoch 11/30\n",
      "60000/60000 [==============================] - 13s 220us/step - loss: 0.1088 - acc: 0.9668 - val_loss: 0.1351 - val_acc: 0.9608\n",
      "Epoch 12/30\n",
      "60000/60000 [==============================] - 12s 206us/step - loss: 0.1031 - acc: 0.9697 - val_loss: 0.1349 - val_acc: 0.9614\n",
      "Epoch 13/30\n",
      "60000/60000 [==============================] - 12s 203us/step - loss: 0.0994 - acc: 0.9702 - val_loss: 0.1298 - val_acc: 0.9617\n",
      "Epoch 14/30\n",
      "60000/60000 [==============================] - 13s 216us/step - loss: 0.0946 - acc: 0.9708 - val_loss: 0.1320 - val_acc: 0.9621\n",
      "Epoch 15/30\n",
      "60000/60000 [==============================] - 12s 207us/step - loss: 0.0917 - acc: 0.9724 - val_loss: 0.1338 - val_acc: 0.9619\n",
      "Epoch 16/30\n",
      "60000/60000 [==============================] - 13s 208us/step - loss: 0.0870 - acc: 0.9732 - val_loss: 0.1306 - val_acc: 0.9616\n",
      "Epoch 17/30\n",
      "60000/60000 [==============================] - 13s 209us/step - loss: 0.0850 - acc: 0.9742 - val_loss: 0.1396 - val_acc: 0.9611\n",
      "Epoch 18/30\n",
      "60000/60000 [==============================] - 12s 207us/step - loss: 0.0829 - acc: 0.9743 - val_loss: 0.1358 - val_acc: 0.9645\n",
      "Epoch 19/30\n",
      "60000/60000 [==============================] - 12s 208us/step - loss: 0.0805 - acc: 0.9751 - val_loss: 0.1317 - val_acc: 0.9623\n",
      "Epoch 20/30\n",
      "60000/60000 [==============================] - 13s 212us/step - loss: 0.0774 - acc: 0.9763 - val_loss: 0.1397 - val_acc: 0.9605\n",
      "Epoch 21/30\n",
      "60000/60000 [==============================] - 15s 243us/step - loss: 0.0756 - acc: 0.9770 - val_loss: 0.1442 - val_acc: 0.9592\n",
      "Epoch 22/30\n",
      "60000/60000 [==============================] - 14s 241us/step - loss: 0.0736 - acc: 0.9768 - val_loss: 0.1439 - val_acc: 0.9603\n",
      "Epoch 23/30\n",
      "60000/60000 [==============================] - 13s 221us/step - loss: 0.0706 - acc: 0.9780 - val_loss: 0.1467 - val_acc: 0.9608\n",
      "Epoch 24/30\n",
      "60000/60000 [==============================] - 13s 220us/step - loss: 0.0698 - acc: 0.9782 - val_loss: 0.1498 - val_acc: 0.9592\n",
      "Epoch 25/30\n",
      "60000/60000 [==============================] - 14s 228us/step - loss: 0.0676 - acc: 0.9792 - val_loss: 0.1426 - val_acc: 0.9623\n",
      "Epoch 26/30\n",
      "60000/60000 [==============================] - 13s 223us/step - loss: 0.0660 - acc: 0.9791 - val_loss: 0.1472 - val_acc: 0.9618\n",
      "Epoch 27/30\n",
      "60000/60000 [==============================] - 13s 223us/step - loss: 0.0650 - acc: 0.9796 - val_loss: 0.1632 - val_acc: 0.9580\n",
      "Epoch 28/30\n",
      "60000/60000 [==============================] - 14s 228us/step - loss: 0.0640 - acc: 0.9796 - val_loss: 0.1460 - val_acc: 0.9613\n",
      "Epoch 29/30\n",
      "60000/60000 [==============================] - 14s 232us/step - loss: 0.0613 - acc: 0.9802 - val_loss: 0.1571 - val_acc: 0.9601\n",
      "Epoch 30/30\n",
      "60000/60000 [==============================] - 14s 228us/step - loss: 0.0614 - acc: 0.9805 - val_loss: 0.1519 - val_acc: 0.9583\n"
     ]
    },
    {
     "data": {
      "text/plain": [
       "dict_keys(['val_loss', 'val_acc', 'loss', 'acc'])"
      ]
     },
     "execution_count": 6,
     "metadata": {},
     "output_type": "execute_result"
    }
   ],
   "source": [
    "classifier.compile(optimizer='adam', loss='categorical_crossentropy',  metrics=['accuracy'])\n",
    "history = classifier.fit(x=x_train, y=y_train_oh, epochs=30, verbose=1, validation_data=(x_test, y_test_oh))\n",
    "history.history.keys()"
   ]
  },
  {
   "cell_type": "code",
   "execution_count": 7,
   "metadata": {},
   "outputs": [
    {
     "data": {
      "text/plain": [
       "Text(0.5,0,'epoch')"
      ]
     },
     "execution_count": 7,
     "metadata": {},
     "output_type": "execute_result"
    },
    {
     "data": {
      "image/png": "[encoded data removed]",
      "text/plain": [
       "<Figure size 432x288 with 1 Axes>"
      ]
     },
     "metadata": {},
     "output_type": "display_data"
    }
   ],
   "source": [
    "plt.plot(history.history['acc'])\n",
    "plt.title('model accuracy')\n",
    "plt.ylabel('accuracy')\n",
    "plt.xlabel('epoch')"
   ]
  },
  {
   "cell_type": "code",
   "execution_count": 8,
   "metadata": {},
   "outputs": [
    {
     "data": {
      "text/plain": [
       "Text(0.5,0,'epoch')"
      ]
     },
     "execution_count": 8,
     "metadata": {},
     "output_type": "execute_result"
    },
    {
     "data": {
      "image/png": "[encoded data removed]",
      "text/plain": [
       "<Figure size 432x288 with 1 Axes>"
      ]
     },
     "metadata": {},
     "output_type": "display_data"
    }
   ],
   "source": [
    "plt.plot(history.history['loss'])\n",
    "plt.title('model loss')\n",
    "plt.ylabel('loss')\n",
    "plt.xlabel('epoch')"
   ]
  },
  {
   "cell_type": "markdown",
   "metadata": {},
   "source": [
    "#### 1.2 Arquitetura"
   ]
  },
  {
   "cell_type": "code",
   "execution_count": 10,
   "metadata": {},
   "outputs": [
    {
     "name": "stdout",
     "output_type": "stream",
     "text": [
      "_________________________________________________________________\n",
      "Layer (type)                 Output Shape              Param #   \n",
      "=================================================================\n",
      "dense_7 (Dense)              (None, 20)                15700     \n",
      "_________________________________________________________________\n",
      "dense_8 (Dense)              (None, 30)                630       \n",
      "_________________________________________________________________\n",
      "dense_9 (Dense)              (None, 10)                310       \n",
      "=================================================================\n",
      "Total params: 16,640\n",
      "Trainable params: 16,640\n",
      "Non-trainable params: 0\n",
      "_________________________________________________________________\n"
     ]
    }
   ],
   "source": [
    "classifier = Sequential()\n",
    "classifier.add(Dense(units=20, activation='relu', input_shape=(x_train.shape[1],)))\n",
    "classifier.add(Dense(units=30, activation='relu'))\n",
    "classifier.add(Dense(D_out, activation='softmax'))\n",
    "\n",
    "classifier.summary()"
   ]
  },
  {
   "cell_type": "code",
   "execution_count": 11,
   "metadata": {},
   "outputs": [
    {
     "name": "stdout",
     "output_type": "stream",
     "text": [
      "Train on 60000 samples, validate on 10000 samples\n",
      "Epoch 1/30\n",
      "60000/60000 [==============================] - 14s 229us/step - loss: 0.8219 - acc: 0.7687 - val_loss: 0.3804 - val_acc: 0.8931\n",
      "Epoch 2/30\n",
      "60000/60000 [==============================] - 14s 228us/step - loss: 0.3531 - acc: 0.9001 - val_loss: 0.3044 - val_acc: 0.9132\n",
      "Epoch 3/30\n",
      "60000/60000 [==============================] - 14s 237us/step - loss: 0.3056 - acc: 0.9118 - val_loss: 0.2767 - val_acc: 0.9219\n",
      "Epoch 4/30\n",
      "60000/60000 [==============================] - 14s 227us/step - loss: 0.2787 - acc: 0.9199 - val_loss: 0.2584 - val_acc: 0.9244\n",
      "Epoch 5/30\n",
      "60000/60000 [==============================] - 14s 227us/step - loss: 0.2575 - acc: 0.9264 - val_loss: 0.2409 - val_acc: 0.9313\n",
      "Epoch 6/30\n",
      "60000/60000 [==============================] - 14s 227us/step - loss: 0.2393 - acc: 0.9316 - val_loss: 0.2330 - val_acc: 0.9325\n",
      "Epoch 7/30\n",
      "60000/60000 [==============================] - 14s 229us/step - loss: 0.2239 - acc: 0.9361 - val_loss: 0.2140 - val_acc: 0.9401\n",
      "Epoch 8/30\n",
      "60000/60000 [==============================] - 14s 240us/step - loss: 0.2101 - acc: 0.9395 - val_loss: 0.2120 - val_acc: 0.9392\n",
      "Epoch 9/30\n",
      "60000/60000 [==============================] - 14s 228us/step - loss: 0.1989 - acc: 0.9429 - val_loss: 0.1923 - val_acc: 0.9452\n",
      "Epoch 10/30\n",
      "60000/60000 [==============================] - 14s 236us/step - loss: 0.1879 - acc: 0.9462 - val_loss: 0.1904 - val_acc: 0.9441\n",
      "Epoch 11/30\n",
      "60000/60000 [==============================] - 14s 232us/step - loss: 0.1787 - acc: 0.9490 - val_loss: 0.1804 - val_acc: 0.9469\n",
      "Epoch 12/30\n",
      "60000/60000 [==============================] - 14s 241us/step - loss: 0.1706 - acc: 0.9512 - val_loss: 0.1743 - val_acc: 0.9480\n",
      "Epoch 13/30\n",
      "60000/60000 [==============================] - 14s 235us/step - loss: 0.1645 - acc: 0.9528 - val_loss: 0.1655 - val_acc: 0.9516\n",
      "Epoch 14/30\n",
      "60000/60000 [==============================] - 14s 235us/step - loss: 0.1579 - acc: 0.9548 - val_loss: 0.1655 - val_acc: 0.9510\n",
      "Epoch 15/30\n",
      "60000/60000 [==============================] - 14s 236us/step - loss: 0.1525 - acc: 0.9559 - val_loss: 0.1566 - val_acc: 0.9533\n",
      "Epoch 16/30\n",
      "60000/60000 [==============================] - 14s 240us/step - loss: 0.1469 - acc: 0.9578 - val_loss: 0.1556 - val_acc: 0.9529\n",
      "Epoch 17/30\n",
      "60000/60000 [==============================] - 15s 244us/step - loss: 0.1427 - acc: 0.9591 - val_loss: 0.1528 - val_acc: 0.9552\n",
      "Epoch 18/30\n",
      "60000/60000 [==============================] - 14s 239us/step - loss: 0.1385 - acc: 0.9599 - val_loss: 0.1531 - val_acc: 0.9534\n",
      "Epoch 19/30\n",
      "60000/60000 [==============================] - 14s 238us/step - loss: 0.1345 - acc: 0.9607 - val_loss: 0.1523 - val_acc: 0.9541\n",
      "Epoch 20/30\n",
      "60000/60000 [==============================] - 14s 235us/step - loss: 0.1310 - acc: 0.9618 - val_loss: 0.1478 - val_acc: 0.9538\n",
      "Epoch 21/30\n",
      "60000/60000 [==============================] - 14s 237us/step - loss: 0.1276 - acc: 0.9632 - val_loss: 0.1454 - val_acc: 0.9573\n",
      "Epoch 22/30\n",
      "60000/60000 [==============================] - 14s 238us/step - loss: 0.1245 - acc: 0.9634 - val_loss: 0.1471 - val_acc: 0.9544\n",
      "Epoch 23/30\n",
      "60000/60000 [==============================] - 14s 241us/step - loss: 0.1217 - acc: 0.9648 - val_loss: 0.1442 - val_acc: 0.9558\n",
      "Epoch 24/30\n",
      "60000/60000 [==============================] - 14s 239us/step - loss: 0.1186 - acc: 0.9652 - val_loss: 0.1387 - val_acc: 0.9564\n",
      "Epoch 25/30\n",
      "60000/60000 [==============================] - 15s 248us/step - loss: 0.1161 - acc: 0.9661 - val_loss: 0.1411 - val_acc: 0.9576\n",
      "Epoch 26/30\n",
      "60000/60000 [==============================] - 14s 237us/step - loss: 0.1140 - acc: 0.9664 - val_loss: 0.1482 - val_acc: 0.9554\n",
      "Epoch 27/30\n",
      "60000/60000 [==============================] - 14s 240us/step - loss: 0.1112 - acc: 0.9674 - val_loss: 0.1371 - val_acc: 0.9573\n",
      "Epoch 28/30\n",
      "60000/60000 [==============================] - 14s 235us/step - loss: 0.1092 - acc: 0.9682 - val_loss: 0.1391 - val_acc: 0.9577\n",
      "Epoch 29/30\n",
      "60000/60000 [==============================] - 14s 239us/step - loss: 0.1071 - acc: 0.9681 - val_loss: 0.1379 - val_acc: 0.9579\n",
      "Epoch 30/30\n",
      "60000/60000 [==============================] - 14s 238us/step - loss: 0.1053 - acc: 0.9695 - val_loss: 0.1358 - val_acc: 0.9580\n"
     ]
    },
    {
     "data": {
      "text/plain": [
       "dict_keys(['val_loss', 'val_acc', 'loss', 'acc'])"
      ]
     },
     "execution_count": 11,
     "metadata": {},
     "output_type": "execute_result"
    }
   ],
   "source": [
    "classifier.compile(optimizer='SGD', loss='categorical_crossentropy',  metrics=['accuracy'])\n",
    "history = classifier.fit(x=x_train, y=y_train_oh, epochs=30, verbose=1, validation_data=(x_test, y_test_oh))\n",
    "history.history.keys()"
   ]
  },
  {
   "cell_type": "code",
   "execution_count": 12,
   "metadata": {},
   "outputs": [
    {
     "data": {
      "text/plain": [
       "Text(0.5,0,'epoch')"
      ]
     },
     "execution_count": 12,
     "metadata": {},
     "output_type": "execute_result"
    },
    {
     "data": {
      "image/png": "[encoded data removed]",
      "text/plain": [
       "<Figure size 432x288 with 1 Axes>"
      ]
     },
     "metadata": {},
     "output_type": "display_data"
    }
   ],
   "source": [
    "plt.plot(history.history['acc'])\n",
    "plt.title('model accuracy')\n",
    "plt.ylabel('accuracy')\n",
    "plt.xlabel('epoch')"
   ]
  },
  {
   "cell_type": "code",
   "execution_count": 13,
   "metadata": {},
   "outputs": [
    {
     "data": {
      "text/plain": [
       "Text(0.5,0,'epoch')"
      ]
     },
     "execution_count": 13,
     "metadata": {},
     "output_type": "execute_result"
    },
    {
     "data": {
      "image/png": "[encoded data removed]",
      "text/plain": [
       "<Figure size 432x288 with 1 Axes>"
      ]
     },
     "metadata": {},
     "output_type": "display_data"
    }
   ],
   "source": [
    "plt.plot(history.history['loss'])\n",
    "plt.title('model loss')\n",
    "plt.ylabel('loss')\n",
    "plt.xlabel('epoch')"
   ]
  },
  {
   "cell_type": "markdown",
   "metadata": {},
   "source": [
    "#### 1.3 Arquitetura"
   ]
  },
  {
   "cell_type": "code",
   "execution_count": 15,
   "metadata": {},
   "outputs": [
    {
     "name": "stdout",
     "output_type": "stream",
     "text": [
      "_________________________________________________________________\n",
      "Layer (type)                 Output Shape              Param #   \n",
      "=================================================================\n",
      "dense_10 (Dense)             (None, 30)                23550     \n",
      "_________________________________________________________________\n",
      "dense_11 (Dense)             (None, 30)                930       \n",
      "_________________________________________________________________\n",
      "dropout_1 (Dropout)          (None, 30)                0         \n",
      "_________________________________________________________________\n",
      "dense_12 (Dense)             (None, 10)                310       \n",
      "=================================================================\n",
      "Total params: 24,790\n",
      "Trainable params: 24,790\n",
      "Non-trainable params: 0\n",
      "_________________________________________________________________\n"
     ]
    }
   ],
   "source": [
    "classifier = Sequential()\n",
    "classifier.add(Dense(units=30, activation='relu', input_shape=(x_train.shape[1],)))\n",
    "classifier.add(Dense(units=30, activation='relu'))\n",
    "classifier.add(Dropout(rate=0.5))\n",
    "classifier.add(Dense(D_out, activation='softmax'))\n",
    "\n",
    "classifier.summary()"
   ]
  },
  {
   "cell_type": "code",
   "execution_count": 16,
   "metadata": {},
   "outputs": [
    {
     "name": "stdout",
     "output_type": "stream",
     "text": [
      "Train on 60000 samples, validate on 10000 samples\n",
      "Epoch 1/30\n",
      "60000/60000 [==============================] - 17s 283us/step - loss: 0.7028 - acc: 0.7737 - val_loss: 0.2420 - val_acc: 0.9269\n",
      "Epoch 2/30\n",
      "60000/60000 [==============================] - 17s 278us/step - loss: 0.4040 - acc: 0.8788 - val_loss: 0.1928 - val_acc: 0.9405\n",
      "Epoch 3/30\n",
      "60000/60000 [==============================] - 17s 278us/step - loss: 0.3402 - acc: 0.8999 - val_loss: 0.1715 - val_acc: 0.9484\n",
      "Epoch 4/30\n",
      "60000/60000 [==============================] - 17s 277us/step - loss: 0.3027 - acc: 0.9086 - val_loss: 0.1617 - val_acc: 0.9491\n",
      "Epoch 5/30\n",
      "60000/60000 [==============================] - 17s 279us/step - loss: 0.2797 - acc: 0.9158 - val_loss: 0.1564 - val_acc: 0.9531\n",
      "Epoch 6/30\n",
      "60000/60000 [==============================] - 17s 277us/step - loss: 0.2641 - acc: 0.9217 - val_loss: 0.1733 - val_acc: 0.9532\n",
      "Epoch 7/30\n",
      "60000/60000 [==============================] - 17s 279us/step - loss: 0.2483 - acc: 0.9253 - val_loss: 0.1532 - val_acc: 0.9573\n",
      "Epoch 8/30\n",
      "60000/60000 [==============================] - 17s 286us/step - loss: 0.2397 - acc: 0.9278 - val_loss: 0.1599 - val_acc: 0.9562\n",
      "Epoch 9/30\n",
      "60000/60000 [==============================] - 16s 272us/step - loss: 0.2300 - acc: 0.9309 - val_loss: 0.1510 - val_acc: 0.9558\n",
      "Epoch 10/30\n",
      "60000/60000 [==============================] - 17s 281us/step - loss: 0.2228 - acc: 0.9338 - val_loss: 0.1446 - val_acc: 0.9599\n",
      "Epoch 11/30\n",
      "60000/60000 [==============================] - 15s 245us/step - loss: 0.2132 - acc: 0.9365 - val_loss: 0.1495 - val_acc: 0.9589\n",
      "Epoch 12/30\n",
      "60000/60000 [==============================] - 15s 246us/step - loss: 0.2079 - acc: 0.9376 - val_loss: 0.1527 - val_acc: 0.9600\n",
      "Epoch 13/30\n",
      "60000/60000 [==============================] - 15s 244us/step - loss: 0.2050 - acc: 0.9385 - val_loss: 0.1552 - val_acc: 0.9594\n",
      "Epoch 14/30\n",
      "60000/60000 [==============================] - 15s 246us/step - loss: 0.1947 - acc: 0.9410 - val_loss: 0.1597 - val_acc: 0.9585\n",
      "Epoch 15/30\n",
      "60000/60000 [==============================] - 15s 245us/step - loss: 0.1921 - acc: 0.9417 - val_loss: 0.1521 - val_acc: 0.9610\n",
      "Epoch 16/30\n",
      "60000/60000 [==============================] - 15s 246us/step - loss: 0.1886 - acc: 0.9425 - val_loss: 0.1506 - val_acc: 0.9613\n",
      "Epoch 17/30\n",
      "60000/60000 [==============================] - 15s 246us/step - loss: 0.1861 - acc: 0.9433 - val_loss: 0.1560 - val_acc: 0.9603\n",
      "Epoch 18/30\n",
      "60000/60000 [==============================] - 15s 247us/step - loss: 0.1797 - acc: 0.9449 - val_loss: 0.1577 - val_acc: 0.9602\n",
      "Epoch 19/30\n",
      "60000/60000 [==============================] - 15s 246us/step - loss: 0.1794 - acc: 0.9456 - val_loss: 0.1548 - val_acc: 0.9611\n",
      "Epoch 20/30\n",
      "60000/60000 [==============================] - 15s 246us/step - loss: 0.1746 - acc: 0.9472 - val_loss: 0.1590 - val_acc: 0.9603\n",
      "Epoch 21/30\n",
      "60000/60000 [==============================] - 15s 244us/step - loss: 0.1709 - acc: 0.9467 - val_loss: 0.1511 - val_acc: 0.9633\n",
      "Epoch 22/30\n",
      "60000/60000 [==============================] - 15s 246us/step - loss: 0.1699 - acc: 0.9484 - val_loss: 0.1556 - val_acc: 0.9623\n",
      "Epoch 23/30\n",
      "60000/60000 [==============================] - 15s 245us/step - loss: 0.1674 - acc: 0.9487 - val_loss: 0.1625 - val_acc: 0.9623\n",
      "Epoch 24/30\n",
      "60000/60000 [==============================] - 15s 246us/step - loss: 0.1672 - acc: 0.9480 - val_loss: 0.1636 - val_acc: 0.9608\n",
      "Epoch 25/30\n",
      "60000/60000 [==============================] - 15s 246us/step - loss: 0.1601 - acc: 0.9512 - val_loss: 0.1760 - val_acc: 0.9608\n",
      "Epoch 26/30\n",
      "60000/60000 [==============================] - 15s 246us/step - loss: 0.1600 - acc: 0.9509 - val_loss: 0.1601 - val_acc: 0.9607\n",
      "Epoch 27/30\n",
      "60000/60000 [==============================] - 15s 254us/step - loss: 0.1601 - acc: 0.9505 - val_loss: 0.1674 - val_acc: 0.9594\n",
      "Epoch 28/30\n",
      "60000/60000 [==============================] - 15s 247us/step - loss: 0.1581 - acc: 0.9502 - val_loss: 0.1708 - val_acc: 0.9605\n",
      "Epoch 29/30\n",
      "60000/60000 [==============================] - 15s 244us/step - loss: 0.1554 - acc: 0.9513 - val_loss: 0.1687 - val_acc: 0.9623\n",
      "Epoch 30/30\n",
      "60000/60000 [==============================] - 15s 246us/step - loss: 0.1528 - acc: 0.9527 - val_loss: 0.1676 - val_acc: 0.9611\n"
     ]
    },
    {
     "data": {
      "text/plain": [
       "dict_keys(['val_loss', 'val_acc', 'loss', 'acc'])"
      ]
     },
     "execution_count": 16,
     "metadata": {},
     "output_type": "execute_result"
    }
   ],
   "source": [
    "classifier.compile(optimizer='adam', loss='categorical_crossentropy',  metrics=['accuracy'])\n",
    "history = classifier.fit(x=x_train, y=y_train_oh, epochs=30, verbose=1, validation_data=(x_test, y_test_oh))\n",
    "history.history.keys()"
   ]
  }
 ],
 "metadata": {
  "kernelspec": {
   "display_name": "Python 3",
   "language": "python",
   "name": "python3"
  },
  "language_info": {
   "codemirror_mode": {
    "name": "ipython",
    "version": 3
   },
   "file_extension": ".py",
   "mimetype": "text/x-python",
   "name": "python",
   "nbconvert_exporter": "python",
   "pygments_lexer": "ipython3",
   "version": "3.6.4"
  }
 },
 "nbformat": 4,
 "nbformat_minor": 2
}
