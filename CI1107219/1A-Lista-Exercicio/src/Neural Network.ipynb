{
 "cells": [
  {
   "cell_type": "markdown",
   "metadata": {},
   "source": [
    "## Imports"
   ]
  },
  {
   "cell_type": "code",
   "execution_count": 148,
   "metadata": {},
   "outputs": [],
   "source": [
    "import numpy as np\n",
    "import generator as g\n",
    "from sklearn.model_selection import train_test_split\n",
    "from sklearn.metrics import accuracy_score\n",
    "from utils import plots\n",
    "import matplotlib.pyplot as plt\n",
    "\n",
    "%matplotlib inline"
   ]
  },
  {
   "cell_type": "markdown",
   "metadata": {},
   "source": [
    "## Funções de Limiares\n",
    "\n",
    "Podem ser utilizada na predição caso os dados não sejam normalizados para saída do problema"
   ]
  },
  {
   "cell_type": "code",
   "execution_count": 12,
   "metadata": {},
   "outputs": [],
   "source": [
    "same = lambda x: x\n",
    "# tupla(x,limit)\n",
    "threshold = lambda x: np.where(x[0]>x[1], 1, 0) "
   ]
  },
  {
   "cell_type": "markdown",
   "metadata": {},
   "source": [
    "## Funções de Ativação\n",
    "\n",
    "Todas as funções de ativação possíveis para rede neural deste notebook"
   ]
  },
  {
   "cell_type": "code",
   "execution_count": 13,
   "metadata": {},
   "outputs": [],
   "source": [
    "# Sigmoid: saída entre [0,1]\n",
    "def sigmoid(x, derivative=False):\n",
    "    if derivative:\n",
    "        y = sigmoid(x)\n",
    "        return y*(1 - y)\n",
    "    return 1.0/(1.0 + np.exp(-x))"
   ]
  },
  {
   "cell_type": "code",
   "execution_count": 14,
   "metadata": {},
   "outputs": [],
   "source": [
    "# Tangente Hiperbólica: saída entre [-1,1]\n",
    "def tanh(x, derivative=False):\n",
    "    if derivative:\n",
    "        y = tanh(x)\n",
    "        return 1 - y**2\n",
    "    return (np.exp(x) - np.exp(-x))/(np.exp(x) + np.exp(-x))"
   ]
  },
  {
   "cell_type": "code",
   "execution_count": 15,
   "metadata": {},
   "outputs": [],
   "source": [
    "# Retificadora (Relu): saída 0 caso entrada seja negativa e maior que 1 caso contrário\n",
    "def relu(x, derivative=False):\n",
    "    if derivative:\n",
    "        return np.where(x <= 0, 0, 1)\n",
    "    return np.maximum(0, x)"
   ]
  },
  {
   "cell_type": "code",
   "execution_count": 16,
   "metadata": {},
   "outputs": [],
   "source": [
    "# Degrau: saída 0 se menor que 0 e saída 1 caso contrário\n",
    "def step(x,derivative=False):\n",
    "    if derivative:\n",
    "        return np.where(x>0,1,1)\n",
    "    return np.where(x>0,1,0)"
   ]
  },
  {
   "cell_type": "code",
   "execution_count": 17,
   "metadata": {},
   "outputs": [],
   "source": [
    "def linear(x, derivative=False):\n",
    "    return np.ones_like(x) if derivative else x"
   ]
  },
  {
   "cell_type": "markdown",
   "metadata": {},
   "source": [
    "## Funções auxiliares"
   ]
  },
  {
   "cell_type": "code",
   "execution_count": 18,
   "metadata": {},
   "outputs": [],
   "source": [
    "def softmax(x, y_oh=None, derivative=False):\n",
    "    if derivative: \n",
    "        y_pred = softmax(x)\n",
    "        y_correct = np.argmax(y_oh, axis=1)\n",
    "        pk = y_pred[range(y_pred.shape[0]), y_correct]\n",
    "        y_pred[range(y_pred.shape[0]), y_correct] = pk*(1.0 - pk)\n",
    "        return y_pred\n",
    "    exp = np.exp(x)\n",
    "    return exp/np.sum(exp, axis=1, keepdims=True)"
   ]
  },
  {
   "cell_type": "code",
   "execution_count": 19,
   "metadata": {},
   "outputs": [],
   "source": [
    "def neg_log_likelihood(y_oh, y_pred, derivative=False):\n",
    "    y_correct = np.argmax(y_oh, axis=1)\n",
    "    pk = y_pred[range(y_pred.shape[0]), y_correct]\n",
    "    if derivative:\n",
    "        y_pred[range(y_pred.shape[0]), y_correct] = (-1.0/pk)\n",
    "        return y_pred\n",
    "    return np.mean(-np.log(pk))"
   ]
  },
  {
   "cell_type": "markdown",
   "metadata": {},
   "source": [
    "## Funções de custo"
   ]
  },
  {
   "cell_type": "code",
   "execution_count": 20,
   "metadata": {},
   "outputs": [],
   "source": [
    "def mse(y, y_pred, derivative=False):\n",
    "    if derivative:\n",
    "        return -(y - y_pred)\n",
    "    return np.mean((y - y_pred)**2)"
   ]
  },
  {
   "cell_type": "code",
   "execution_count": 21,
   "metadata": {},
   "outputs": [],
   "source": [
    "def sigmoid_cross_entropy(y, y_pred, derivative=False):\n",
    "    if derivative:\n",
    "        return -(y - y_pred)\n",
    "    return -np.mean(y*np.log(y_pred) + (1-y)*np.log(1-y_pred))"
   ]
  },
  {
   "cell_type": "code",
   "execution_count": 8,
   "metadata": {},
   "outputs": [],
   "source": [
    "def softmax_neg_log_likelihood(y_oh, y_pred, derivative=False):\n",
    "    y_softmax = softmax(y_pred)\n",
    "    y_correct = np.argmax(y_oh, axis=1)\n",
    "    pk = y_softmax[range(y_softmax.shape[0]), y_correct]\n",
    "    if derivative:\n",
    "        return -(y_oh - y_softmax)/y_oh.shape[0]\n",
    "    return np.mean(-np.log(pk))"
   ]
  },
  {
   "cell_type": "markdown",
   "metadata": {},
   "source": [
    "## Questões"
   ]
  },
  {
   "cell_type": "markdown",
   "metadata": {},
   "source": [
    "1) A representação de uma determinada mensagem digital ternária, isto é formada por três bits,\n",
    "forma um cubo cujos vértices correspondem a mesma representação digital. Supondo que ao\n",
    "transmitirmos esta mensagem a mesma possa ser contaminada por ruído formado em torno de\n",
    "cada vértice uma nuvem esférica de valores aleatórios com raio máximo é 0.1. Formule este\n",
    "problema como um problema de classificação de padrões e treine uma rede de Perceptron de\n",
    "Rosenblatt (Perceptron de camada única) para atuar como classificador/decodificador. Para\n",
    "solução do problema defina antes um conjunto de treinamento e um conjunto de validação.\n",
    "Dica: O problema pode ser formulado como um problema de classificação de 8 padrões\n",
    "diferentes, sendo que cada padrão representa um vértice do cubo."
   ]
  },
  {
   "cell_type": "code",
   "execution_count": 57,
   "metadata": {},
   "outputs": [
    {
     "name": "stdout",
     "output_type": "stream",
     "text": [
      "(24000, 3) (6000, 3) (24000, 8) (6000, 8)\n"
     ]
    }
   ],
   "source": [
    "# entradas\n",
    "x,y = g.data_1A1(30000,dtype='train')\n",
    "x_train, x_val, y_train, y_val = train_test_split(x, y, test_size=6000, stratify=y, random_state=42)\n",
    "print(x_train.shape, x_val.shape, y_train.shape, y_val.shape)"
   ]
  },
  {
   "cell_type": "code",
   "execution_count": 144,
   "metadata": {},
   "outputs": [],
   "source": [
    "class OneLayer:\n",
    "    def __init__(self):\n",
    "        self.learning_rate = 0.02\n",
    "        self.w = np.random.random((8, 3))-0.5\n",
    "        self.b = np.zeros(8)\n",
    "        self.history = { 'errors': [], 'epoch': [] }\n",
    "\n",
    "    def forward(self, x_i):\n",
    "        y = np.dot(x_i, self.w.T) + self.b\n",
    "        return step(y)\n",
    "\n",
    "    def fit(self, x,y, epochs=100):\n",
    "        for e in range(epochs):\n",
    "             for x_i, y_i in zip(x,y):\n",
    "                x_i =  x_i.reshape(1, x.shape[1])\n",
    "                y_pred = self.forward(x_i)\n",
    "                error = y_i-y_pred\n",
    "                # log\n",
    "                self.history['errors'].append(np.sum(np.where(error!=0,1,0)))\n",
    "                self.history['epoch'].append(e)\n",
    "                self.w = self.w + self.learning_rate*np.dot(error.T, x_i)\n",
    "                self.b = self.b + self.learning_rate*error[0]\n",
    "\n",
    "    def predict(self, x_val):\n",
    "        y_pred = []\n",
    "        for x in x_val:\n",
    "            x_i =  x.reshape(1, x_val.shape[1])\n",
    "            y_pred.append(self.forward(x_i)[0])\n",
    "        return np.array(y_pred)"
   ]
  },
  {
   "cell_type": "code",
   "execution_count": 149,
   "metadata": {},
   "outputs": [
    {
     "name": "stdout",
     "output_type": "stream",
     "text": [
      "w: [[-0.13455654 -0.02089922 -0.46802362]\n",
      " [-0.04762193 -0.14924393  0.01137909]\n",
      " [-0.14934217  0.00284647 -0.37056944]\n",
      " [-0.28592217  0.05444558  0.02446567]\n",
      " [ 0.00657117 -0.34598997 -0.20897483]\n",
      " [ 0.01636182 -0.40528899  0.01548214]\n",
      " [ 0.02098584  0.24934777 -0.16196318]\n",
      " [ 0.16713964  0.05046583  0.04512711]]\n",
      "b: [  2.00000000e-02  -6.93889390e-18  -6.93889390e-18  -6.00000000e-02\n",
      "  -6.93889390e-18  -2.00000000e-02  -2.60000000e-01  -2.60000000e-01]\n",
      "accurancy:  1.0\n"
     ]
    },
    {
     "data": {
      "image/png": "[encoded data removed]",
      "text/plain": [
       "<matplotlib.figure.Figure at 0x7ff3988a16d8>"
      ]
     },
     "metadata": {},
     "output_type": "display_data"
    }
   ],
   "source": [
    "one = OneLayer()\n",
    "one.fit(x_train, y_train, epochs=10)\n",
    "\n",
    "print('w:', one.w)\n",
    "print('b:', one.b)\n",
    "print('accurancy: ', accuracy_score(y_val, one.predict(x_val)))\n",
    "\n",
    "plt.title(\"Erros de treino ao longo das épocas\")\n",
    "plt.xlabel(\"epochs\")\n",
    "plt.ylabel(\"errors\")\n",
    "plt.plot(one.history['epoch'],one.history['errors'])\n",
    "plt.show()"
   ]
  },
  {
   "cell_type": "markdown",
   "metadata": {},
   "source": [
    "2) Implemente uma rede perceptron de múltiplas camadas treinando-a com os seguintes\n",
    "algoritmos:\n",
    "\n",
    "a) algoritmo da retropropagação em modo estocástico usando a regra delta;\n",
    "\n",
    "b) algoritmo da retropropagação em modo por lote usando a regra delta;\n",
    "\n",
    "c) algoritmo da retropropagação usando a regra delta com termo do momento;"
   ]
  },
  {
   "cell_type": "code",
   "execution_count": 150,
   "metadata": {},
   "outputs": [],
   "source": [
    "class Layer:\n",
    "    def __init__(self, input_dim, output_dim, activation=step, use_bias=True):\n",
    "        self.input = None\n",
    "        self.weights = np.random.randn(output_dim, input_dim)\n",
    "        self.bias = np.random.randn(1, output_dim)\n",
    "        self.activation = activation\n",
    "        self._activ_inp, self._activ_out = None, None\n",
    "        self.input_dim = input_dim\n",
    "        self.use_bias = use_bias\n",
    "        self.dweights, self.dbias = None, None"
   ]
  },
  {
   "cell_type": "code",
   "execution_count": 18,
   "metadata": {},
   "outputs": [],
   "source": [
    "class NeuralNetwork:\n",
    "    def __init__(self, cost_func=mse, learning_rate=0.02):\n",
    "        self._layers = []\n",
    "        self.cost_func = cost_func\n",
    "        self._learning_rate = learning_rate\n",
    "    \n",
    "    def __backpropagation(self, y,y_pred):\n",
    "        last_delta = self.cost_func(y, y_pred, derivative=True)\n",
    "        for layer in reversed(self._layers):\n",
    "            dactivation = layer.activation(layer._activ_inp, derivative=True)*last_delta\n",
    "            last_delta = np.dot(dactivation, layer.weights)\n",
    "            layer.dweights = np.dot(dactivation.T, layer.input)\n",
    "            layer.dbias = 1.0*dactivation.sum(axis=0, keepdims=True)\n",
    "        \n",
    "        for layer in reversed(self._layers):\n",
    "            layer.weights = layer.weights - self._learning_rate*layer.dweights\n",
    "            layer.biases = layer.bias - self._learning_rate*layer.dbias\n",
    "    \n",
    "    def __forward(self, x):\n",
    "        self._layers[0].input = x\n",
    "        for current_layer, next_layer in zip(self._layers, self._layers[1:] + [Layer(0,0)]):\n",
    "            y = np.dot(current_layer.input, current_layer.weights.T) + current_layer.bias\n",
    "            current_layer._activ_inp = y\n",
    "            current_layer._activ_out = next_layer.input = current_layer.activation(y)\n",
    "        return self._layers[-1]._activ_out\n",
    "\n",
    "    def add(self, layer):\n",
    "        self._layers.append(layer)\n",
    "    \n",
    "    def evaluate(self,y_pred, y, func=same, dtype=int):\n",
    "        score = 0\n",
    "        total = 100.0/y.shape[0]\n",
    "        # mesmo tipo de saida\n",
    "        y_pred = y_pred.astype(dtype)\n",
    "        y = y.astype(dtype)\n",
    "\n",
    "        for y_i, y_pred_i in zip(y,y_pred):\n",
    "            y_pred_i = func(y_pred_i)\n",
    "            if np.array_equal(y_i,y_pred_i):\n",
    "                score+=1\n",
    "        return score*total\n",
    "\n",
    "    def fit(self, X=None, Y=None, epochs=1, batch_size=None, verbose=False):\n",
    "        batch_size = X.shape[0] if batch_size is None else batch_size\n",
    "        n_batches = X.shape[0] // batch_size\n",
    "        \n",
    "        for step in range(epochs+1):\n",
    "            # treino cada batch\n",
    "            for batch in range(n_batches):\n",
    "                offset = batch_size * batch\n",
    "                # conjunto de treinamento por batch\n",
    "                X_batch, Y_batch = X[offset:offset+batch_size], Y[offset:offset+batch_size]\n",
    "\n",
    "                y_pred = self.__forward(X)\n",
    "                self.__backpropagation(Y, y_pred)\n",
    "            \n",
    "    def get_learning_rate(self):\n",
    "        return self._learning_rate\n",
    "\n",
    "    def get_weights(self):\n",
    "        return self._layers[-1].weights, self._layers[-1].bias\n",
    "\n",
    "    def predict(self, X, verbose=False):\n",
    "        return self.__forward(X)"
   ]
  },
  {
   "cell_type": "markdown",
   "metadata": {},
   "source": [
    "## 2 Questão "
   ]
  },
  {
   "cell_type": "code",
   "execution_count": 19,
   "metadata": {},
   "outputs": [
    {
     "name": "stdout",
     "output_type": "stream",
     "text": [
      "(24000, 3) (6000, 3) (24000, 8) (6000, 8)\n"
     ]
    }
   ],
   "source": [
    "x,y = g.data_1A1(30000,dtype='train')\n",
    "x_train, x_val, y_train, y_val = train_test_split(x, y, test_size=6000, stratify=y, random_state=42)\n",
    "print(x_train.shape, x_val.shape, y_train.shape, y_val.shape)"
   ]
  },
  {
   "cell_type": "code",
   "execution_count": 31,
   "metadata": {},
   "outputs": [
    {
     "name": "stdout",
     "output_type": "stream",
     "text": [
      "w: [[ 184.97874287 -185.44848326  -55.87451029 -113.70068089    7.67357322\n",
      "    66.09479742 -297.58445231 -181.40371621]\n",
      " [   5.10528284  210.99952097  -69.42477597  -12.17347771 -173.1538998\n",
      "  -226.48817866 -219.21580945  -20.54127108]\n",
      " [   1.16916264 -117.11079734 -237.49222091  131.05042728   -8.55011415\n",
      "  -119.61790559  -55.45485623 -180.13989624]\n",
      " [  40.146012     31.0696378    14.92989974   -4.92347076 -132.34769726\n",
      "  -245.09945357  -54.18427072 -243.96694029]\n",
      " [-181.62460823  -56.8198296  -237.88496285 -179.73244554    7.2124858\n",
      "    12.38664317 -237.72191894   12.17559083]\n",
      " [-121.16944497  -16.80277194   27.80871974 -203.53244089 -138.17817584\n",
      "    38.4194186  -242.92218511  -46.22731046]\n",
      " [-238.47655114 -299.40765597 -240.38724815 -110.5533294   -44.75276054\n",
      "    67.72889745   90.01526576 -118.04275964]\n",
      " [-122.39217433 -181.16926031   65.28273439 -170.82330076 -188.14713026\n",
      "  -124.34209529   68.36005456   -9.37824742]]\n",
      "b: [[-2.62929008 -0.71099705 -0.21755788 -1.51458177 -0.76637893  0.12508161\n",
      "   1.68587036 -0.37030758]]\n",
      "Accurancy: 100.0%\n"
     ]
    }
   ],
   "source": [
    "D_in, D_out = x_train.shape[1], y_train.shape[1]\n",
    "model = NeuralNetwork()\n",
    "model.add(Layer(input_dim=D_in, output_dim=D_out, activation=step))\n",
    "model.add(Layer(input_dim=8, output_dim=8, activation=step))\n",
    "model.fit(x_train, y_train, batch_size=2000, epochs=500, verbose=False)\n",
    "\n",
    "w,b = model.get_weights()\n",
    "y_pred = model.predict(x_val, verbose=False)\n",
    "accurancy = model.evaluate(y_pred, y_val, func=same)\n",
    "\n",
    "print('w:', w)\n",
    "print('b:', b)\n",
    "print('Accurancy: {0:.1f}%'.format(accurancy))\n"
   ]
  },
  {
   "cell_type": "code",
   "execution_count": 23,
   "metadata": {},
   "outputs": [
    {
     "data": {
      "text/plain": [
       "1.0"
      ]
     },
     "execution_count": 23,
     "metadata": {},
     "output_type": "execute_result"
    }
   ],
   "source": [
    "accuracy_score(y_val, y_pred)"
   ]
  },
  {
   "cell_type": "markdown",
   "metadata": {},
   "source": [
    "## 3 Questão"
   ]
  },
  {
   "cell_type": "code",
   "execution_count": 351,
   "metadata": {},
   "outputs": [
    {
     "name": "stdout",
     "output_type": "stream",
     "text": [
      "(4, 2) (4, 1)\n"
     ]
    }
   ],
   "source": [
    "x = np.array([[0, 0], [0, 1], [1, 0], [1, 1]])\n",
    "y = np.array([0, 1, 1, 0]).reshape(-1, 1)\n",
    "\n",
    "print(x.shape, y.shape)"
   ]
  },
  {
   "cell_type": "code",
   "execution_count": 391,
   "metadata": {},
   "outputs": [
    {
     "name": "stdout",
     "output_type": "stream",
     "text": [
      "Predições:\n",
      "[[ 0.14474569]\n",
      " [ 0.86964007]\n",
      " [ 0.90186175]\n",
      " [ 0.06859569]]\n",
      "Accurancy: 100.0%\n"
     ]
    },
    {
     "data": {
      "image/png": "[encoded data removed]",
      "text/plain": [
       "<matplotlib.figure.Figure at 0x25054dead68>"
      ]
     },
     "metadata": {},
     "output_type": "display_data"
    }
   ],
   "source": [
    "D_in, D_out = x.shape[1], y.shape[1]\n",
    "model = NeuralNetwork(cost_func=, learning_rate=1.0)\n",
    "model.add(Layer(input_dim=D_in, output_dim=2, activation=sigmoid))\n",
    "model.add(Layer(input_dim=2, output_dim=D_out, activation=sigmoid))\n",
    "\n",
    "model.fit(x, y, epochs=2000)\n",
    "y_pred = model.predict(x)\n",
    "print('Predições:', y_pred, sep='\\n')\n",
    "print('Accurancy: {0:.1f}%'.format(accurancy))\n",
    "plots.plot_data_and_predictions_3d_in_2d(x, y, is_binary=True, nn=model, threshold=0.5, cmap='bwr')"
   ]
  }
 ],
 "metadata": {
  "kernelspec": {
   "display_name": "Python 3",
   "language": "python",
   "name": "python3"
  },
  "language_info": {
   "codemirror_mode": {
    "name": "ipython",
    "version": 3
   },
   "file_extension": ".py",
   "mimetype": "text/x-python",
   "name": "python",
   "nbconvert_exporter": "python",
   "pygments_lexer": "ipython3",
   "version": "3.6.1"
  }
 },
 "nbformat": 4,
 "nbformat_minor": 2
}
